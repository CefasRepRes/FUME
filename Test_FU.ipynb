{
 "cells": [
  {
   "cell_type": "markdown",
   "id": "ebb8c617-e623-4d99-9025-15c8307d50d9",
   "metadata": {},
   "source": [
    "# Forel Ule calculation test\n",
    "\n",
    "## Compare Jobel repo from Garaba (2015) with formulae in Woerd and Wernand (2015, Sensors, Supplementary Information)\n",
    "\n",
    "* Uses hyperspectral in situ observations from the Baltic as examples \n",
    "https://doi.org/10.5281/zenodo.5572537\n",
    "* Also, compare the effect of different CMF tables\n",
    "\n",
    "*Hendrik J. van der Woerd and Marcel R. Wernand 2015. True Colour Classification of Natural Waters with Medium-Spectral Resolution Satellites: SeaWiFS, MODIS, MERIS and OLCI. Sensors, 15, 25663-25680.*\n",
    "\n",
    "*Qin, P., Simis, S.G.H., & Tilstone, G.H. (2017). Radiometric validation of atmospheric correction for MERIS in the Baltic Sea based on continuous observations from ships and AERONET-OC. Remote Sensing of Environment, 200, 263-280*\n"
   ]
  },
  {
   "cell_type": "code",
   "execution_count": 1,
   "id": "c80637c6-34e7-49cc-894c-f00760a44e4e",
   "metadata": {},
   "outputs": [],
   "source": [
    "import pandas as pd\n",
    "import matplotlib.pyplot as plt\n",
    "import seaborn as sns\n",
    "from scipy.interpolate import interp1d\n",
    "import math\n",
    "import fume\n",
    "import numpy as np"
   ]
  },
  {
   "cell_type": "code",
   "execution_count": 2,
   "id": "a8db813e-983c-4dca-a025-5680c7b93d06",
   "metadata": {},
   "outputs": [
    {
     "name": "stdout",
     "output_type": "stream",
     "text": [
      "[400, 412.5, 442.5, 490, 510, 560, 620, 665, 673.75, 681.25, 708.75]\n"
     ]
    }
   ],
   "source": [
    "OLCIwavelength = [400,412.5,442.5,490,510,560,620,665,673.75,681.25,708.75,753.75,761.25,764.375,767.5,778.75,865,885,900,940,1020]\n",
    "OLCIwavelength = OLCIwavelength[0:11] # bands 1 to 11\n",
    "print(OLCIwavelength)"
   ]
  },
  {
   "cell_type": "markdown",
   "id": "8f2c866c-5d9e-4910-af63-13187c1e3e0f",
   "metadata": {},
   "source": [
    "## Formulae from Woerd and Wernand (2015, Sensors, Supplementary Information)"
   ]
  },
  {
   "cell_type": "markdown",
   "id": "89d3649b-e037-4e99-b5bc-a49c67fbe77e",
   "metadata": {},
   "source": [
    "\n",
    "```\n",
    "OLCI\n",
    "X3\n",
    "0.154*reflec_1 + 2.957*reflec_2 + 10.861*reflec_3 + 3.744*reflec_4 + 3.750*reflec_5 +\n",
    "34.687*reflec_6 + 41.853*reflec_7 + 7.323*reflec_8 + 0.591*reflec_9 + 0.549*reflec_10 +\n",
    "0.189*reflec_11\n",
    "Y3\n",
    "0.004*reflec_1 + 0.112*reflec_2 + 1.711*reflec_3 + 5.672*reflec_4 + 23.263*reflec_5 +\n",
    "48.791*reflec_6 + 23.949*reflec_7 + 2.836*reflec_8 + 0.216*reflec_9 + 0.199*reflec_10 +\n",
    "0.068*reflec_11\n",
    "Z3\n",
    "0.731*reflec_1 + 14.354*reflec_2 + 58.356*reflec_3 + 28.227*reflec_4 + 4.022*reflec_5 +\n",
    "0.618*reflec_6 + 0.026*reflec_7 + 0.000*reflec_8 + 0.000*reflec_9 + 0.000*reflec_10 +\n",
    "0.000*reflec_11\n",
    "Chrx\n",
    "X3/(X3 + Y3 + Z3)\n",
    "Chry\n",
    "Y3/(X3 + Y3 + Z\n",
    "    \n",
    "HUESentinel3\n",
    "((atan2((Chry − 0.333333), (Chrx − 0.333333)))*180/PI ) < 0? ((atan2((Chry − 0.333333),\n",
    "(Chrx − 0.333333)))*180/PI) + 360:((atan2((Chry − 0.333333), (Chrx − 0.333333)))*180/PI)\n",
    "\n",
    "HUESentinel3 100\n",
    "HUESentinel3/100\n",
    "\n",
    "POLYHueSentinel3\n",
    "−12.5076*pow(HUESentinel3 100,5) + 91.6345*pow(HUESentinel3 100,4)\n",
    "−249.8480*pow(HUESentinel3 100,3) + 308.6561*pow(HUESentinel3 100,2) − 165.4818*\n",
    "HUESentinel3 100 + 28.5608\n",
    "HUESentinel3Pcorr\n",
    "HUEnewSentinel3 + POLYHueSentinel3\n",
    "FUSentinel3Pcorr\n",
    "\n",
    "FUSentinel3Pcorr = \n",
    "(HUESentinel3Pcorr > 232? 0:HUESentinel3Pcorr > 227.168? 1:(HUESentinel3Pcorr > 220.977?\n",
    "2:(HUESentinel3Pcorr > 209.994? 3:(HUESentinel3Pcorr > 190.779? 4:(HUESentinel3Pcorr >\n",
    "163.084? 5:(HUESentinel3Pcorr > 132.999? 6:(HUESentinel3Pcorr > 109.054? 7:(HUESentinel3Pcorr\n",
    "> 94.037? 8:(HUESentinel3Pcorr > 83.346? 9:(HUESentinel3Pcorr > 74.572? 10:(HUESentinel3Pcorr\n",
    "> 67.957? 11:(HUESentinel3Pcorr > 62.186? 12:(HUESentinel3Pcorr > 56.435?\n",
    "13:(HUESentinel3Pcorr > 50.665? 14:(HUESentinel3Pcorr > 45.129? 15:(HUESentinel3Pcorr >\n",
    "39.769? 16:(HUESentinel3Pcorr > 34.906? 17:(HUESentinel3Pcorr > 30.439? 18:(HUESentinel3Pcorr\n",
    "> 26.337? 19:(HUESentinel3Pcorr > 22.741? 20:(HUESentinel3Pcorr > 19? 21:(HUESentinel3Pcorr <\n",
    "19? 21:0))))))))))))))))))))))\n",
    "\n",
    "```"
   ]
  },
  {
   "cell_type": "code",
   "execution_count": 3,
   "id": "244bf50b-add3-4424-a102-0f3cf7e3cbf1",
   "metadata": {},
   "outputs": [],
   "source": [
    "def calc_fu_WW2015(wavelength, reflec):\n",
    "    # wavelength in nm\n",
    "    # reflec Rrs in sr-1\n",
    "\n",
    "\n",
    "    #OLCI\n",
    "    X3 = (0.154*reflec[0] + 2.957*reflec[1] + 10.861*reflec[2] + 3.744*reflec[3] + \n",
    "          3.750*reflec[4] + 34.687*reflec[5] + 41.853*reflec[6] + 7.323*reflec[7] + \n",
    "          0.591*reflec[8] + 0.549*reflec[9] + 0.189*reflec[10])\n",
    "    Y3 = (0.004*reflec[0] + 0.112*reflec[1] + 1.711*reflec[2] + 5.672*reflec[3] + \n",
    "          23.263*reflec[4] + 48.791*reflec[5] + 23.949*reflec[6] + 2.836*reflec[7] + \n",
    "          0.216*reflec[8] + 0.199*reflec[9] + 0.068*reflec[10])\n",
    "    Z3 = (0.731*reflec[0] + 14.354*reflec[1] + 58.356*reflec[2] + 28.227*reflec[3] + \n",
    "          4.022*reflec[4] + 0.618*reflec[5] + 0.026*reflec[6] + 0.000*reflec[7] + \n",
    "          0.000*reflec[8] + 0.000*reflec[9] + 0.000*reflec[10])\n",
    "    Chrx = X3/(X3 + Y3 + Z3)\n",
    "    Chry = Y3/(X3 + Y3 + Z3)\n",
    "\n",
    "    HUESentinel3 = ((math.atan2((Chry - 0.333333), (Chrx - 0.333333)))*180/math.pi) # degrees\n",
    "    if HUESentinel3 < 0:\n",
    "        HUESentinel3 = HUESentinel3+360\n",
    "\n",
    "    HUESentinel3_100 = HUESentinel3/100\n",
    "\n",
    "    POLYHueSentinel3 = (-12.5076*pow(HUESentinel3_100,5) + \n",
    "                        91.6345*pow(HUESentinel3_100,4) - \n",
    "                        249.8480*pow(HUESentinel3_100,3) + \n",
    "                        308.6561*pow(HUESentinel3_100,2) - \n",
    "                        165.4818*HUESentinel3_100 + 28.5608 )\n",
    "\n",
    "    HUESentinel3Pcorr = HUESentinel3 + POLYHueSentinel3\n",
    "\n",
    "    if (HUESentinel3Pcorr > 232):\n",
    "        FUSentinel3Pcorr = 0\n",
    "    elif HUESentinel3Pcorr > 227.168:\n",
    "        FUSentinel3Pcorr = 1\n",
    "    elif (HUESentinel3Pcorr > 220.977):\n",
    "        FUSentinel3Pcorr = 2\n",
    "    elif (HUESentinel3Pcorr > 209.994):\n",
    "        FUSentinel3Pcorr = 3\n",
    "    elif (HUESentinel3Pcorr > 190.779):\n",
    "        FUSentinel3Pcorr = 4\n",
    "    elif (HUESentinel3Pcorr > 163.084):\n",
    "        FUSentinel3Pcorr = 5\n",
    "    elif (HUESentinel3Pcorr > 132.999):\n",
    "        FUSentinel3Pcorr = 6\n",
    "    elif (HUESentinel3Pcorr > 109.054):\n",
    "        FUSentinel3Pcorr = 7\n",
    "    elif (HUESentinel3Pcorr > 94.037):\n",
    "        FUSentinel3Pcorr = 8\n",
    "    elif (HUESentinel3Pcorr > 83.346):\n",
    "        FUSentinel3Pcorr = 9\n",
    "    elif (HUESentinel3Pcorr > 74.572):\n",
    "        FUSentinel3Pcorr = 10\n",
    "    elif (HUESentinel3Pcorr > 67.957):\n",
    "        FUSentinel3Pcorr =  11\n",
    "    elif (HUESentinel3Pcorr > 62.186):\n",
    "        FUSentinel3Pcorr =  12\n",
    "    elif (HUESentinel3Pcorr > 56.435):\n",
    "        FUSentinel3Pcorr = 13\n",
    "    elif (HUESentinel3Pcorr > 50.665):\n",
    "        FUSentinel3Pcorr =  14\n",
    "    elif (HUESentinel3Pcorr > 45.129):\n",
    "        FUSentinel3Pcorr =  15\n",
    "    elif (HUESentinel3Pcorr > 39.769):\n",
    "        FUSentinel3Pcorr =  16\n",
    "    elif (HUESentinel3Pcorr > 34.906):\n",
    "        FUSentinel3Pcorr =  17\n",
    "    elif (HUESentinel3Pcorr > 30.439):\n",
    "        FUSentinel3Pcorr =  18\n",
    "    elif (HUESentinel3Pcorr > 26.337):\n",
    "        FUSentinel3Pcorr =  19\n",
    "    elif (HUESentinel3Pcorr > 22.741):\n",
    "        FUSentinel3Pcorr =  20\n",
    "    elif (HUESentinel3Pcorr > 19):\n",
    "        FUSentinel3Pcorr =  21\n",
    "    elif (HUESentinel3Pcorr < 19):\n",
    "        FUSentinel3Pcorr =  21\n",
    "\n",
    "    #print('Chrx',Chrx)\n",
    "    #print('Chry:',Chry)\n",
    "    #print('HUESentinel3:',HUESentinel3,'degrees')\n",
    "    #print('POLYHueSentinel3:',POLYHueSentinel3, 'degrees')\n",
    "    #print('HUESentinel3Pcorr:',HUESentinel3Pcorr, 'degrees')\n",
    "    #print('FUSentinel3Pcorr',FUSentinel3Pcorr)\n",
    "    \n",
    "    return FUSentinel3Pcorr\n"
   ]
  },
  {
   "cell_type": "markdown",
   "id": "1bfd4351-d120-4718-8777-351583c76260",
   "metadata": {},
   "source": [
    "## Read hyperspectral data and interpolate to Satellite bands"
   ]
  },
  {
   "cell_type": "code",
   "execution_count": 4,
   "id": "33002885-fec9-4f22-ade0-9cc071dbf0dc",
   "metadata": {},
   "outputs": [
    {
     "name": "stderr",
     "output_type": "stream",
     "text": [
      "C:\\Users\\tams00\\AppData\\Local\\Temp\\ipykernel_40356\\3856471779.py:4: ParserWarning: Falling back to the 'python' engine because the 'c' engine does not support regex separators (separators > 1 char and different from '\\s+' are interpreted as regex); you can avoid this warning by specifying engine='python'.\n",
      "  obs = pd.read_csv(sep = \"\\,\", filepath_or_buffer = \"data/rrs-bal-filtered.csv\")\n"
     ]
    },
    {
     "data": {
      "text/plain": [
       "<matplotlib.legend.Legend at 0x1c1e6bb0af0>"
      ]
     },
     "execution_count": 4,
     "metadata": {},
     "output_type": "execute_result"
    },
    {
     "data": {
      "image/png": "[encoded data removed]",
      "text/plain": [
       "<Figure size 432x288 with 1 Axes>"
      ]
     },
     "metadata": {
      "needs_background": "light"
     },
     "output_type": "display_data"
    }
   ],
   "source": [
    "# https://doi.org/10.5281/zenodo.5572537\n",
    "iobs = 1\n",
    "\n",
    "obs = pd.read_csv(sep = \"\\,\", filepath_or_buffer = \"data/rrs-bal-filtered.csv\")\n",
    "obsband = [int(name.split('_')[1]) for name in list(obs.columns[4:])]\n",
    "obswavelength = [int(name.split('_')[-1])/10 for name in list(obs.columns[4:])]\n",
    "obsRrs = obs.iloc[iobs,4:].values\n",
    "\n",
    "# retrieving the reflectance values for OLCI band frequencies\n",
    "satRrs = interp1d(obswavelength, obsRrs, kind = 'linear')(OLCIwavelength)\n",
    "\n",
    "\n",
    "plt.plot(obswavelength,obsRrs,'.',label='original test data')\n",
    "plt.plot(OLCIwavelength,satRrs,'o',label='interpolated to OLCI')\n",
    "plt.ylabel('observed Rrs (sr-1)')\n",
    "plt.xlabel('wavelength (nm)')\n",
    "plt.title('Test spectrum')\n",
    "plt.legend()\n"
   ]
  },
  {
   "cell_type": "markdown",
   "id": "83a0974a-67b4-4018-adee-144301f4954d",
   "metadata": {},
   "source": [
    "## Compare FUME with Woer&Wernand 2015 using Baltic observations"
   ]
  },
  {
   "cell_type": "code",
   "execution_count": 29,
   "id": "f09eae8e-20f7-4200-a516-ee9d572f67d3",
   "metadata": {},
   "outputs": [],
   "source": [
    "fus_ww2015 = []\n",
    "fus_fume = []\n",
    "\n",
    "from timeit import default_timer as timer\n",
    "\n",
    "start = timer()\n",
    "for iobs in range(5400,5804):\n",
    "\n",
    "    obsRrs = obs.iloc[iobs,4:].values\n",
    "\n",
    "    # retrieving the reflectance values for OLCI band frequencies\n",
    "    satRrs = interp1d(obswavelength, obsRrs, kind = 'linear')(OLCIwavelength)\n",
    "\n",
    "    #Calculate Forel Ule\n",
    "    \n",
    "    fu_ww2015 = calc_fu_WW2015(OLCIwavelength,satRrs)\n",
    "    fu_fume = fume.calc_ForelUle_image(np.array(OLCIwavelength), np.expand_dims(np.array(satRrs), axis=[1,2]),sensorcorr='olci')[0,0]\n",
    "    \n",
    "    fus_ww2015.append(fu_ww2015)\n",
    "    fus_fume.append(fu_fume)\n"
   ]
  },
  {
   "cell_type": "code",
   "execution_count": 30,
   "id": "998fb8e6-8941-4d33-b70d-9ffbbf63a74d",
   "metadata": {},
   "outputs": [
    {
     "data": {
      "text/plain": [
       "Text(0, 0.5, 'FUME')"
      ]
     },
     "execution_count": 30,
     "metadata": {},
     "output_type": "execute_result"
    },
    {
     "data": {
      "image/png": "[encoded data removed]",
      "text/plain": [
       "<Figure size 432x432 with 1 Axes>"
      ]
     },
     "metadata": {
      "needs_background": "light"
     },
     "output_type": "display_data"
    }
   ],
   "source": [
    "fig, ax = plt.subplots(1,1,figsize=(6,6))\n",
    "plt.plot(fus_ww2015, fus_fume,'.')\n",
    "type(ax)\n",
    "ax.plot([0, 1], [0, 1], color='k', transform=ax.transAxes)\n",
    "plt.xlabel('WW2015')\n",
    "plt.ylabel('FUME')"
   ]
  },
  {
   "cell_type": "code",
   "execution_count": 7,
   "id": "309179e5-f20b-4959-a53e-17ed5cf06452",
   "metadata": {},
   "outputs": [
    {
     "data": {
      "text/plain": [
       "28.5255"
      ]
     },
     "execution_count": 7,
     "metadata": {},
     "output_type": "execute_result"
    }
   ],
   "source": [
    "sensorcorr = 'meris'\n",
    "sensor_corr_file = 'data/sensor_hue_corr_WW2015'\n",
    "sensorcorrdf = pd.read_csv(sensor_corr_file,index_col=0,)\n",
    "sensor_coef = sensorcorrdf.loc[sensorcorr]\n",
    "sensor_coef.values\n",
    "\n",
    "def polynomial(coefs,x):\n",
    "    order = len(coefs)-1\n",
    "    \n",
    "    return sum( [coef*x**(order-i) for i,coef in enumerate(coefs) ])\n",
    "\n",
    "polynomial(sensor_coef,0)"
   ]
  },
  {
   "cell_type": "code",
   "execution_count": 44,
   "id": "7dbc53ed-e160-42b9-8faf-0a1bedd02570",
   "metadata": {},
   "outputs": [
    {
     "data": {
      "text/html": [
       "<div>\n",
       "<style scoped>\n",
       "    .dataframe tbody tr th:only-of-type {\n",
       "        vertical-align: middle;\n",
       "    }\n",
       "\n",
       "    .dataframe tbody tr th {\n",
       "        vertical-align: top;\n",
       "    }\n",
       "\n",
       "    .dataframe thead th {\n",
       "        text-align: right;\n",
       "    }\n",
       "</style>\n",
       "<table border=\"1\" class=\"dataframe\">\n",
       "  <thead>\n",
       "    <tr style=\"text-align: right;\">\n",
       "      <th></th>\n",
       "      <th>a5</th>\n",
       "      <th>a4</th>\n",
       "      <th>a3</th>\n",
       "      <th>a2</th>\n",
       "      <th>a1</th>\n",
       "      <th>k</th>\n",
       "    </tr>\n",
       "    <tr>\n",
       "      <th>sensor</th>\n",
       "      <th></th>\n",
       "      <th></th>\n",
       "      <th></th>\n",
       "      <th></th>\n",
       "      <th></th>\n",
       "      <th></th>\n",
       "    </tr>\n",
       "  </thead>\n",
       "  <tbody>\n",
       "    <tr>\n",
       "      <th>meris</th>\n",
       "      <td>−12.0506</td>\n",
       "      <td>88.9325</td>\n",
       "      <td>−244.6960</td>\n",
       "      <td>305.2361</td>\n",
       "      <td>−164.6960</td>\n",
       "      <td>28.5255</td>\n",
       "    </tr>\n",
       "    <tr>\n",
       "      <th>olci</th>\n",
       "      <td>−12.5076</td>\n",
       "      <td>91.6345</td>\n",
       "      <td>−249.8480</td>\n",
       "      <td>308.6561</td>\n",
       "      <td>−165.4818</td>\n",
       "      <td>28.5608</td>\n",
       "    </tr>\n",
       "    <tr>\n",
       "      <th>modisa</th>\n",
       "      <td>−48.0880</td>\n",
       "      <td>362.6179</td>\n",
       "      <td>−1011.7151</td>\n",
       "      <td>1262.0348</td>\n",
       "      <td>−666.5981</td>\n",
       "      <td>113.9215</td>\n",
       "    </tr>\n",
       "    <tr>\n",
       "      <th>seawifs</th>\n",
       "      <td>−49.4377</td>\n",
       "      <td>363.2770</td>\n",
       "      <td>−978.1648</td>\n",
       "      <td>1154.6030</td>\n",
       "      <td>−552.2701</td>\n",
       "      <td>78.2940</td>\n",
       "    </tr>\n",
       "  </tbody>\n",
       "</table>\n",
       "</div>"
      ],
      "text/plain": [
       "                  a5        a4           a3         a2          a1         k\n",
       "sensor                                                                      \n",
       "meris       −12.0506   88.9325    −244.6960   305.2361   −164.6960   28.5255\n",
       "olci        −12.5076   91.6345    −249.8480   308.6561   −165.4818   28.5608\n",
       "modisa      −48.0880  362.6179   −1011.7151  1262.0348   −666.5981  113.9215\n",
       "seawifs     −49.4377  363.2770    −978.1648  1154.6030   −552.2701   78.2940"
      ]
     },
     "execution_count": 44,
     "metadata": {},
     "output_type": "execute_result"
    }
   ],
   "source": [
    "sensorcorrdf"
   ]
  },
  {
   "cell_type": "markdown",
   "id": "9e8bd2f2-56a4-48b4-9b89-ef7cd9f72263",
   "metadata": {},
   "source": [
    "## Effect of Hue angle correction for OLCI"
   ]
  },
  {
   "cell_type": "code",
   "execution_count": 20,
   "id": "db0f0582-b230-4e09-8272-b028180514ef",
   "metadata": {},
   "outputs": [],
   "source": [
    "fus_fumenocorr = []\n",
    "fus_fumecorr = []\n",
    "\n",
    "from timeit import default_timer as timer\n",
    "\n",
    "start = timer()\n",
    "for iobs in range(0,5804):\n",
    "\n",
    "    obsRrs = obs.iloc[iobs,4:].values\n",
    "\n",
    "    # retrieving the reflectance values for OLCI band frequencies\n",
    "    satRrs = interp1d(obswavelength, obsRrs, kind = 'linear')(OLCIwavelength)\n",
    "\n",
    "    #Calculate Forel Ule\n",
    "    \n",
    "    fu_fumenocorr = fume.calc_ForelUle_image(np.array(OLCIwavelength), np.expand_dims(np.array(satRrs), axis=[1,2]))[0,0]\n",
    "    fu_fumecorr = fume.calc_ForelUle_image(np.array(OLCIwavelength), np.expand_dims(np.array(satRrs), axis=[1,2]),sensorcorr='olci')[0,0]\n",
    "    \n",
    "    fus_fumenocorr.append(fu_fumenocorr)\n",
    "    fus_fumecorr.append(fu_fumecorr)"
   ]
  },
  {
   "cell_type": "code",
   "execution_count": 22,
   "id": "bcd2bc5b-f013-45dd-bf10-545f25baa5de",
   "metadata": {},
   "outputs": [
    {
     "data": {
      "text/plain": [
       "Text(0.5, 1.0, 'sensorcorr=olci')"
      ]
     },
     "execution_count": 22,
     "metadata": {},
     "output_type": "execute_result"
    },
    {
     "data": {
      "image/png": "[encoded data removed]",
      "text/plain": [
       "<Figure size 432x432 with 1 Axes>"
      ]
     },
     "metadata": {
      "needs_background": "light"
     },
     "output_type": "display_data"
    }
   ],
   "source": [
    "fig, ax = plt.subplots(1,1,figsize=(6,6))\n",
    "plt.plot(fus_fumenocorr, fus_fumecorr,'.')\n",
    "type(ax)\n",
    "ax.plot([0, 1], [0, 1], color='k', transform=ax.transAxes)\n",
    "plt.xlabel('nocorr')\n",
    "plt.ylabel('corr')\n",
    "plt.title('sensorcorr=olci')"
   ]
  },
  {
   "cell_type": "markdown",
   "id": "2fa8c68c-bf68-4ba0-9663-411c2cbe3b0e",
   "metadata": {},
   "source": [
    "## Effect of CFM functions"
   ]
  },
  {
   "cell_type": "code",
   "execution_count": 33,
   "id": "d43552bc-f446-43cd-b5bf-9e66a21c4353",
   "metadata": {},
   "outputs": [],
   "source": [
    "cmf='data/FUI_CIE1931_JV.tsv'\n",
    "\n",
    "fus_fumecmf1 = []\n",
    "fus_fumecmf2 = []\n",
    "\n",
    "from timeit import default_timer as timer\n",
    "\n",
    "start = timer()\n",
    "for iobs in range(0,5804):\n",
    "\n",
    "    obsRrs = obs.iloc[iobs,4:].values\n",
    "\n",
    "    # retrieving the reflectance values for OLCI band frequencies\n",
    "    satRrs = interp1d(obswavelength, obsRrs, kind = 'linear')(OLCIwavelength)\n",
    "\n",
    "    #Calculate Forel Ule\n",
    "    \n",
    "    fu_fumecmf1 = fume.calc_ForelUle_image(np.array(OLCIwavelength), np.expand_dims(np.array(satRrs), axis=[1,2]),sensorcorr='olci',cmf='data/FUI_CIE1931.tsv')[0,0]\n",
    "    fu_fumecmf2 = fume.calc_ForelUle_image(np.array(OLCIwavelength), np.expand_dims(np.array(satRrs), axis=[1,2]),sensorcorr='olci',cmf='data/FUI_CIE1931_JV.tsv')[0,0]\n",
    "    \n",
    "    fus_fumecmf1.append(fu_fumecmf1)\n",
    "    fus_fumecmf2.append(fu_fumecmf2)"
   ]
  },
  {
   "cell_type": "code",
   "execution_count": 34,
   "id": "44c61707-6f79-4098-835f-047ec91bb71b",
   "metadata": {},
   "outputs": [
    {
     "data": {
      "text/plain": [
       "Text(0.5, 1.0, 'CMF')"
      ]
     },
     "execution_count": 34,
     "metadata": {},
     "output_type": "execute_result"
    },
    {
     "data": {
      "image/png": "[encoded data removed]",
      "text/plain": [
       "<Figure size 432x432 with 1 Axes>"
      ]
     },
     "metadata": {
      "needs_background": "light"
     },
     "output_type": "display_data"
    }
   ],
   "source": [
    "fig, ax = plt.subplots(1,1,figsize=(6,6))\n",
    "plt.plot(fus_fumecmf1, fus_fumecmf2,'.')\n",
    "type(ax)\n",
    "ax.plot([0, 1], [0, 1], color='k', transform=ax.transAxes)\n",
    "plt.xlabel('1931')\n",
    "plt.ylabel('JV')\n",
    "plt.title('CMF')"
   ]
  },
  {
   "cell_type": "markdown",
   "id": "71992dff-e451-4b2e-b213-c34dd9d89ca8",
   "metadata": {},
   "source": [
    "## Compare FUME with WW2015 but using same CIE1931"
   ]
  },
  {
   "cell_type": "code",
   "execution_count": 39,
   "id": "a4980940-ba24-4d3a-9831-b44de148e544",
   "metadata": {},
   "outputs": [],
   "source": [
    "fus_ww2015 = []\n",
    "fus_fume = []\n",
    "\n",
    "from timeit import default_timer as timer\n",
    "\n",
    "start = timer()\n",
    "for iobs in range(5400,5804):\n",
    "\n",
    "    obsRrs = obs.iloc[iobs,4:].values\n",
    "\n",
    "    # retrieving the reflectance values for OLCI band frequencies\n",
    "    satRrs = interp1d(obswavelength, obsRrs, kind = 'linear')(OLCIwavelength)\n",
    "\n",
    "    #Calculate Forel Ule\n",
    "    \n",
    "    fu_ww2015 = calc_fu_WW2015(OLCIwavelength,satRrs)\n",
    "    fu_fume = fume.calc_ForelUle_image(np.array(OLCIwavelength), \n",
    "                                       np.expand_dims(np.array(satRrs), axis=[1,2]),\n",
    "                                       sensorcorr='olci',\n",
    "                                       cmf='data/FUI_CIE1931.tsv')[0,0]\n",
    "    \n",
    "    fus_ww2015.append(fu_ww2015)\n",
    "    fus_fume.append(fu_fume)"
   ]
  },
  {
   "cell_type": "code",
   "execution_count": 40,
   "id": "9dd25e70-e0ae-4c3f-8306-5f9b2dcaff58",
   "metadata": {},
   "outputs": [
    {
     "data": {
      "text/plain": [
       "Text(0.5, 1.0, 'using CIE1931')"
      ]
     },
     "execution_count": 40,
     "metadata": {},
     "output_type": "execute_result"
    },
    {
     "data": {
      "image/png": "[encoded data removed]",
      "text/plain": [
       "<Figure size 432x432 with 1 Axes>"
      ]
     },
     "metadata": {
      "needs_background": "light"
     },
     "output_type": "display_data"
    }
   ],
   "source": [
    "fig, ax = plt.subplots(1,1,figsize=(6,6))\n",
    "plt.plot(fus_ww2015, fus_fume,'.')\n",
    "type(ax)\n",
    "ax.plot([0, 1], [0, 1], color='k', transform=ax.transAxes)\n",
    "plt.xlabel('ww2015')\n",
    "plt.ylabel('fume')\n",
    "plt.title('using CIE1931')"
   ]
  },
  {
   "cell_type": "code",
   "execution_count": null,
   "id": "cff1f727-7ef1-4f5c-87ae-9857cfbce25b",
   "metadata": {},
   "outputs": [],
   "source": []
  }
 ],
 "metadata": {
  "kernelspec": {
   "display_name": "Python 3 (ipykernel)",
   "language": "python",
   "name": "python3"
  },
  "language_info": {
   "codemirror_mode": {
    "name": "ipython",
    "version": 3
   },
   "file_extension": ".py",
   "mimetype": "text/x-python",
   "name": "python",
   "nbconvert_exporter": "python",
   "pygments_lexer": "ipython3",
   "version": "3.8.13"
  }
 },
 "nbformat": 4,
 "nbformat_minor": 5
}
