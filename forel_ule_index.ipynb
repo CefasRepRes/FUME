{
 "cells": [
  {
   "cell_type": "code",
   "execution_count": 1,
   "metadata": {
    "tags": []
   },
   "outputs": [],
   "source": [
    "__maintainer__ = \"[José M. Beltrán](<jobel.open.science@gmail.com>)\"\n",
    "__modified_from = {\"code\":\"matlab\",\"credits\":\"Shungudzemwoyo Garaba\",\"email\":\"<shungu.garaba@uni-oldenburg.de>\", \"dates\":{\"created\":20110224, \"modified\":20140910}}\n",
    "__credits__ = [\"José M. Beltrán\"]\n",
    "__license__ = \"GPL-3.0\"\n",
    "__status__ = []"
   ]
  },
  {
   "cell_type": "markdown",
   "metadata": {},
   "source": [
    "# Notebook to calculate the Forel-Ule Index"
   ]
  },
  {
   "cell_type": "markdown",
   "metadata": {},
   "source": [
    "**Reference** :\n",
    "Wernand, M. R., Hommersom, a., & Van Der Woerd, H. J. (2013). MERIS-based ocean colour classification with the discrete Forel-Ule scale. Ocean Science, 9, 477–487. doi:10.5194/os-9-477-2013"
   ]
  },
  {
   "cell_type": "markdown",
   "metadata": {},
   "source": [
    "**Bibtex** : \n",
    "@article{Wernand2013, \n",
    "author = {Wernand, M. R. and Hommersom, a. and {Van Der Woerd}, H. J.}, \n",
    "title = {{MERIS-based ocean colour classification with the discrete Forel-Ule scale}},\n",
    "doi = {10.5194/os-9-477-2013},\n",
    "issn = {18120784},\n",
    "journal = {Ocean Science},\n",
    "pages = {477--487},\n",
    "volume = {9},\n",
    "year = {2013}\n",
    "}"
   ]
  },
  {
   "cell_type": "code",
   "execution_count": 2,
   "metadata": {
    "tags": []
   },
   "outputs": [],
   "source": [
    "# Keeping a local mathjax for Latex rendering\n",
    "from IPython.external import mathjax  #mathjax.install_mathjax()"
   ]
  },
  {
   "cell_type": "code",
   "execution_count": 192,
   "metadata": {
    "tags": []
   },
   "outputs": [],
   "source": [
    "import os\n",
    "import numpy as np\n",
    "import pandas as pd\n",
    "from scipy.interpolate import interp1d\n",
    "import math\n",
    "import matplotlib.pyplot as plt\n",
    "import xarray as xr"
   ]
  },
  {
   "cell_type": "code",
   "execution_count": 18,
   "metadata": {
    "tags": []
   },
   "outputs": [],
   "source": [
    "# Set the current working directory\n",
    "#os.chdir('/home/jobel/gits/jobel/FUME')"
   ]
  },
  {
   "cell_type": "markdown",
   "metadata": {},
   "source": [
    "[**Notes from the colour and vision research laboratory**](http://www.cvrl.org/)\n",
    "\n",
    "The CIE 1931 2-deg CMFs (CIE, 1932), which form the basis for most practical colorimetry, are based on the chromaticity coordinates obtained by Guild (1931) and by Wright (1928). Chromaticity coordinates, however, provide only a relative measure of the ratios of the three primaries needed to match each spectrum color, whereas CMFs specify absolute energy values. In order to reconstruct the CMFs from the Wright and Guild data, it was assumed that the CIE1924 V(l) photopic luminosity function (CIE, 1926) is a linear combination of the three CMFs (see Wyszecki & Stiles, 1982), for a description of the reconstruction and for the tabulated values. \n",
    "\n",
    "It has long been clear that the CIE1924 V(λ) that was used to construct the CIE 1931 2-deg CMFs **seriously underestimates sensitivity at wavelengths below 460 nm**, so that these CMFs are seriously in error at short wavelengths. The Judd and Judd-Vos modifications are attempts to overcome this problem.\n"
   ]
  },
  {
   "cell_type": "code",
   "execution_count": 5,
   "metadata": {
    "tags": []
   },
   "outputs": [],
   "source": [
    "cmf = pd.read_csv(sep = \"\\t\", filepath_or_buffer = \"data/FUI_CIE1931_JV.tsv\")\n",
    "fui = pd.read_csv(sep = \"\\t\", filepath_or_buffer = \"data/FUI_ATAN210.tsv\", names = [\"value\", \"atan\"])\n",
    "test = pd.read_csv(sep = \"\\t\", filepath_or_buffer = \"data/test.csv\", header = None)\n",
    "# Renaming the columns of the test dataframe\n",
    "test.columns = [\"wavelength\", \"y1\", \"y2\", \"y3\", \"y4\"]"
   ]
  },
  {
   "cell_type": "code",
   "execution_count": 22,
   "metadata": {},
   "outputs": [
    {
     "data": {
      "text/html": [
       "<div>\n",
       "<style scoped>\n",
       "    .dataframe tbody tr th:only-of-type {\n",
       "        vertical-align: middle;\n",
       "    }\n",
       "\n",
       "    .dataframe tbody tr th {\n",
       "        vertical-align: top;\n",
       "    }\n",
       "\n",
       "    .dataframe thead th {\n",
       "        text-align: right;\n",
       "    }\n",
       "</style>\n",
       "<table border=\"1\" class=\"dataframe\">\n",
       "  <thead>\n",
       "    <tr style=\"text-align: right;\">\n",
       "      <th></th>\n",
       "      <th>wavelength</th>\n",
       "      <th>x</th>\n",
       "      <th>y</th>\n",
       "      <th>z</th>\n",
       "    </tr>\n",
       "  </thead>\n",
       "  <tbody>\n",
       "    <tr>\n",
       "      <th>0</th>\n",
       "      <td>380</td>\n",
       "      <td>0.002690</td>\n",
       "      <td>2.000000e-04</td>\n",
       "      <td>1.226000e-02</td>\n",
       "    </tr>\n",
       "    <tr>\n",
       "      <th>1</th>\n",
       "      <td>385</td>\n",
       "      <td>0.005311</td>\n",
       "      <td>3.955600e-04</td>\n",
       "      <td>2.422200e-02</td>\n",
       "    </tr>\n",
       "    <tr>\n",
       "      <th>2</th>\n",
       "      <td>390</td>\n",
       "      <td>0.010781</td>\n",
       "      <td>8.000000e-04</td>\n",
       "      <td>4.925000e-02</td>\n",
       "    </tr>\n",
       "    <tr>\n",
       "      <th>3</th>\n",
       "      <td>395</td>\n",
       "      <td>0.020792</td>\n",
       "      <td>1.545700e-03</td>\n",
       "      <td>9.513500e-02</td>\n",
       "    </tr>\n",
       "    <tr>\n",
       "      <th>4</th>\n",
       "      <td>400</td>\n",
       "      <td>0.037981</td>\n",
       "      <td>2.800000e-03</td>\n",
       "      <td>1.740900e-01</td>\n",
       "    </tr>\n",
       "    <tr>\n",
       "      <th>...</th>\n",
       "      <td>...</td>\n",
       "      <td>...</td>\n",
       "      <td>...</td>\n",
       "      <td>...</td>\n",
       "    </tr>\n",
       "    <tr>\n",
       "      <th>85</th>\n",
       "      <td>805</td>\n",
       "      <td>0.000007</td>\n",
       "      <td>2.607600e-06</td>\n",
       "      <td>5.862600e-10</td>\n",
       "    </tr>\n",
       "    <tr>\n",
       "      <th>86</th>\n",
       "      <td>810</td>\n",
       "      <td>0.000005</td>\n",
       "      <td>1.836500e-06</td>\n",
       "      <td>4.213800e-10</td>\n",
       "    </tr>\n",
       "    <tr>\n",
       "      <th>87</th>\n",
       "      <td>815</td>\n",
       "      <td>0.000003</td>\n",
       "      <td>1.295000e-06</td>\n",
       "      <td>3.031900e-10</td>\n",
       "    </tr>\n",
       "    <tr>\n",
       "      <th>88</th>\n",
       "      <td>820</td>\n",
       "      <td>0.000002</td>\n",
       "      <td>9.109200e-07</td>\n",
       "      <td>2.175300e-10</td>\n",
       "    </tr>\n",
       "    <tr>\n",
       "      <th>89</th>\n",
       "      <td>825</td>\n",
       "      <td>0.000002</td>\n",
       "      <td>6.356400e-07</td>\n",
       "      <td>1.547600e-10</td>\n",
       "    </tr>\n",
       "  </tbody>\n",
       "</table>\n",
       "<p>90 rows × 4 columns</p>\n",
       "</div>"
      ],
      "text/plain": [
       "    wavelength         x             y             z\n",
       "0          380  0.002690  2.000000e-04  1.226000e-02\n",
       "1          385  0.005311  3.955600e-04  2.422200e-02\n",
       "2          390  0.010781  8.000000e-04  4.925000e-02\n",
       "3          395  0.020792  1.545700e-03  9.513500e-02\n",
       "4          400  0.037981  2.800000e-03  1.740900e-01\n",
       "..         ...       ...           ...           ...\n",
       "85         805  0.000007  2.607600e-06  5.862600e-10\n",
       "86         810  0.000005  1.836500e-06  4.213800e-10\n",
       "87         815  0.000003  1.295000e-06  3.031900e-10\n",
       "88         820  0.000002  9.109200e-07  2.175300e-10\n",
       "89         825  0.000002  6.356400e-07  1.547600e-10\n",
       "\n",
       "[90 rows x 4 columns]"
      ]
     },
     "execution_count": 22,
     "metadata": {},
     "output_type": "execute_result"
    }
   ],
   "source": [
    "cmf"
   ]
  },
  {
   "cell_type": "code",
   "execution_count": 6,
   "metadata": {
    "collapsed": false,
    "jupyter": {
     "outputs_hidden": false
    }
   },
   "outputs": [],
   "source": [
    "#the interpolating part \n",
    "Delta = 5 # 5nm bins\n",
    "# adds +5 as it should include 825 resulting in 90 values, i.e. matching the len(cmf).\n",
    "xi1 = range(380, 825 + Delta, Delta)  \n"
   ]
  },
  {
   "cell_type": "code",
   "execution_count": 7,
   "metadata": {
    "tags": []
   },
   "outputs": [],
   "source": [
    "# For linear interpolation you can use:\n",
    "# interp1d(x,y)(new_x) # 'linear' it's the default\n",
    "# or to be more explicit\n",
    "# set_interp = interp1d(x,y, kind='linear')\n",
    "#new_y = set_interp(new_x)"
   ]
  },
  {
   "cell_type": "code",
   "execution_count": 8,
   "metadata": {
    "tags": []
   },
   "outputs": [],
   "source": [
    "# retrieving the reflectance values for lambda 380-720nm\n",
    "int_r1 = interp1d(test[\"wavelength\"], test[\"y1\"], kind = 'linear')(xi1)"
   ]
  },
  {
   "cell_type": "code",
   "execution_count": 19,
   "metadata": {},
   "outputs": [],
   "source": [
    "#cmf"
   ]
  },
  {
   "cell_type": "code",
   "execution_count": 10,
   "metadata": {
    "tags": []
   },
   "outputs": [],
   "source": [
    "# Creating a dictionary to hold the reflectance values aas tristimulus\n",
    "r = {\"x\": [], \"y\": [], \"z\": []}\n",
    "# ------- R_RS * cmf\n",
    "for i in range(0, len(cmf)):\n",
    "    r[\"x\"] = int_r1[i] * cmf[\"x\"]\n",
    "    r[\"y\"] = int_r1[i] * cmf[\"y\"]\n",
    "    r[\"z\"] = int_r1[i] * cmf[\"z\"]"
   ]
  },
  {
   "cell_type": "code",
   "execution_count": 11,
   "metadata": {
    "tags": []
   },
   "outputs": [],
   "source": [
    "# ------ Sum\n",
    "s = {\"x\": [], \"y\": [], \"z\": []}\n",
    "\n",
    "s[\"x\"] = sum(r[\"x\"] * Delta)\n",
    "s[\"y\"] = sum(r[\"y\"] * Delta)\n",
    "s[\"z\"] = sum(r[\"z\"] * Delta)\n",
    "\n",
    "sum_xyz = s[\"x\"] + s[\"y\"] + s[\"z\"]"
   ]
  },
  {
   "cell_type": "code",
   "execution_count": 12,
   "metadata": {
    "tags": []
   },
   "outputs": [],
   "source": [
    "# ------ chromaticity\n",
    "chrom = {\"x\": [], \"y\": [], \"z\": []}\n",
    "chrom[\"x\"] = s[\"x\"] / sum_xyz\n",
    "chrom[\"y\"] = s[\"y\"] / sum_xyz\n",
    "chrom[\"z\"] = s[\"z\"] / sum_xyz\n",
    "\n",
    "sum_chrom_y = chrom[\"x\"] + chrom[\"y\"] + chrom[\"z\"]"
   ]
  },
  {
   "cell_type": "code",
   "execution_count": 13,
   "metadata": {
    "tags": []
   },
   "outputs": [],
   "source": [
    "# ______ chromaticity - whiteness\n",
    "chrom_w = {\"x\": [], \"y\": []}\n",
    "chrom_w[\"x\"] = chrom[\"x\"] - (1 / 3)\n",
    "chrom_w[\"y\"] = chrom[\"y\"] - (1 / 3)"
   ]
  },
  {
   "cell_type": "code",
   "execution_count": 14,
   "metadata": {
    "tags": []
   },
   "outputs": [],
   "source": [
    "# ______ calculate atan2\n",
    "# we use the average atan per scale\n",
    "a_i = math.atan2(chrom_w[\"y\"], chrom_w[\"x\"]) * 180 / math.pi\n",
    "\n",
    "if a_i < 0:\n",
    "    a_i = a_i + 360\n",
    "else:\n",
    "    a_i = a_i"
   ]
  },
  {
   "cell_type": "code",
   "execution_count": 15,
   "metadata": {
    "tags": []
   },
   "outputs": [],
   "source": [
    "# ----- fui approximation\n",
    "\n",
    "if a_i >= fui[\"atan\"][0]:  # FUI = 1 its > Average\n",
    "    fu_i = 1.0\n",
    "elif math.isnan(a_i):  # FUI = NAN = 0\n",
    "    fu_i = 0\n",
    "elif a_i <= fui[\"atan\"][200]:  # FUI = 21\n",
    "    fu_i = 21.0\n",
    "else:\n",
    "    for c in range(0, 200):\n",
    "        if (fui[\"atan\"][c] > a_i) and (a_i >= fui[\"atan\"][c + 1]):\n",
    "            fu_i = fui[\"value\"][c + 1]"
   ]
  },
  {
   "cell_type": "code",
   "execution_count": 16,
   "metadata": {
    "collapsed": false,
    "jupyter": {
     "outputs_hidden": false
    }
   },
   "outputs": [
    {
     "data": {
      "text/plain": [
       "14.9"
      ]
     },
     "execution_count": 16,
     "metadata": {},
     "output_type": "execute_result"
    }
   ],
   "source": [
    "# The calculated FUI is\n",
    "fu_i"
   ]
  },
  {
   "cell_type": "code",
   "execution_count": 177,
   "metadata": {
    "tags": []
   },
   "outputs": [
    {
     "name": "stdout",
     "output_type": "stream",
     "text": [
      "cmf 380 : 825 : 5\n",
      "input 360 : 850\n",
      "intersection 380 825\n",
      "99\n",
      "90 range(380, 830, 5)\n",
      "90\n",
      "Forel-Ule: 18.1\n"
     ]
    },
    {
     "data": {
      "image/png": "[encoded data removed]",
      "text/plain": [
       "<Figure size 432x288 with 1 Axes>"
      ]
     },
     "metadata": {
      "needs_background": "light"
     },
     "output_type": "display_data"
    }
   ],
   "source": [
    "Delta = 5\n",
    "\n",
    "\n",
    "\n",
    "def calc_ForelUle(wavelength, reflectance, cmf):\n",
    "    \n",
    "    Delta = cmf['wavelength'][1] - cmf['wavelength'][0]\n",
    "    #Debug\n",
    "    print('cmf',cmf['wavelength'].iloc[0],':', cmf['wavelength'].iloc[-1],':',Delta)\n",
    "    print('input', wavelength.min(),':',wavelength.max() )\n",
    "    \n",
    "    start = max([cmf['wavelength'].iloc[0], wavelength.min()])\n",
    "    end = min([cmf['wavelength'].iloc[-1], wavelength.max()])\n",
    "    print('intersection', start,end)\n",
    "    cmfi = cmf[ (cmf['wavelength'] >= start) & (cmf['wavelength'] <= end) ]\n",
    "    \n",
    "    xi1 = range( start, end+Delta, Delta)\n",
    "    int_r1 = interp1d( wavelength, reflectance, kind = 'linear')(xi1)\n",
    "\n",
    "    print(len(wavelength))\n",
    "    print(len(xi1),xi1)\n",
    "    print(len(int_r1))\n",
    "    \n",
    "    # Creating a dictionary to hold the reflectance values aas tristimulus\n",
    "    r = {\"x\": [], \"y\": [], \"z\": []}\n",
    "    \n",
    "    r[\"x\"] = int_r1 * cmfi[\"x\"]\n",
    "    r[\"y\"] = int_r1 * cmfi[\"y\"]\n",
    "    r[\"z\"] = int_r1 * cmfi[\"z\"]\n",
    "    \n",
    "    plt.plot(wavelength, reflectance)\n",
    "    plt.plot(xi1,r[\"x\"])\n",
    "    plt.plot(xi1,r[\"y\"])\n",
    "    plt.plot(xi1,r[\"z\"])\n",
    "    \n",
    "    # ------ Sum\n",
    "    s = {\"x\": [], \"y\": [], \"z\": []}\n",
    "\n",
    "    s[\"x\"] = sum(r[\"x\"] * Delta)\n",
    "    s[\"y\"] = sum(r[\"y\"] * Delta)\n",
    "    s[\"z\"] = sum(r[\"z\"] * Delta)\n",
    "        \n",
    "    sum_xyz = s[\"x\"] + s[\"y\"] + s[\"z\"]\n",
    "    \n",
    "    # ------ chromaticity\n",
    "    chrom = {\"x\": [], \"y\": [], \"z\": []}\n",
    "    chrom[\"x\"] = s[\"x\"] / sum_xyz\n",
    "    chrom[\"y\"] = s[\"y\"] / sum_xyz\n",
    "    chrom[\"z\"] = s[\"z\"] / sum_xyz\n",
    "\n",
    "    sum_chrom_y = chrom[\"x\"] + chrom[\"y\"] + chrom[\"z\"]\n",
    "\n",
    "    # ______ chromaticity - whiteness\n",
    "    chrom_w = {\"x\": [], \"y\": []}\n",
    "    chrom_w[\"x\"] = chrom[\"x\"] - (1 / 3)\n",
    "    chrom_w[\"y\"] = chrom[\"y\"] - (1 / 3)\n",
    "\n",
    "    # ______ calculate atan2\n",
    "    # we use the average atan per scale\n",
    "    a_i = math.atan2(chrom_w[\"y\"], chrom_w[\"x\"]) * 180 / math.pi\n",
    "\n",
    "    if a_i < 0:\n",
    "        a_i = a_i + 360\n",
    "    else:\n",
    "        a_i = a_i\n",
    "\n",
    "    # ----- fui approximation\n",
    "\n",
    "    if a_i >= fui[\"atan\"][0]:  # FUI = 1 its > Average\n",
    "        fu_i = 1.0\n",
    "    elif math.isnan(a_i):  # FUI = NAN = 0\n",
    "        fu_i = 0\n",
    "    elif a_i <= fui[\"atan\"][200]:  # FUI = 21\n",
    "        fu_i = 21.0\n",
    "    else:\n",
    "        for c in range(0, len(fui)):\n",
    "            if (fui[\"atan\"][c] > a_i) and (a_i >= fui[\"atan\"][c + 1]):\n",
    "                fu_i = fui[\"value\"][c + 1]\n",
    "\n",
    "    print('Forel-Ule:',fu_i)\n",
    "        \n",
    "calc_ForelUle(test['wavelength'], test['y1'],cmf)"
   ]
  },
  {
   "cell_type": "code",
   "execution_count": 193,
   "metadata": {},
   "outputs": [],
   "source": [
    "ds = xr.open_dataset('data/S3A_OL_1_EFR____20200506T104005_20200506T104305_20200507T143731_0179_058_051_1980_LN1_O_NT_002.SEN3.nc')\n",
    "ds = ds.isel(height=slice(3200,3450),width=slice(2200,2700))\n",
    "\n",
    "# Extract wavelengths from band names\n",
    "wavelength = []\n",
    "bandid = []\n",
    "reflectance_name = 'Rw'\n",
    "for var in ds.data_vars:\n",
    "    if reflectance_name in var:\n",
    "        bandid.append(var)\n",
    "        wavelength.append( int ( var.replace(reflectance_name,'') ) )\n",
    "\n",
    "Rw = xr.concat( [ds[id] for id in bandid] ,dim='wavelength')\n",
    "Rw.name = 'Rw'\n",
    "Rw = Rw.assign_coords(wavelength=wavelength)"
   ]
  },
  {
   "cell_type": "code",
   "execution_count": 254,
   "metadata": {},
   "outputs": [
    {
     "name": "stdout",
     "output_type": "stream",
     "text": [
      "cmf 380 : 825 : 5\n",
      "input 400 : 1020\n",
      "intersection 400 825\n",
      "(86,)\n",
      "86\n",
      "<class 'numpy.ndarray'>\n",
      "14\n",
      "86 range(400, 830, 5)\n",
      "86\n",
      "0 229.9439 229.4906\n",
      "1 229.4906 229.0373\n",
      "2 229.0373 228.584\n",
      "3 228.584 228.1307\n",
      "4 228.1307 227.6774\n",
      "5 227.6774 227.2241\n",
      "6 227.2241 226.7709\n",
      "7 226.7709 226.3176\n",
      "8 226.3176 225.8643\n",
      "9 225.8643 225.411\n",
      "10 225.411 224.183\n",
      "11 224.183 222.955\n",
      "12 222.955 221.727\n",
      "13 221.727 220.499\n",
      "14 220.499 219.2711\n",
      "15 219.2711 218.0431\n",
      "16 218.0431 216.8151\n",
      "17 216.8151 215.5871\n",
      "18 215.5871 214.3591\n",
      "19 214.3591 213.1311\n",
      "20 213.1311 211.5431\n",
      "21 211.5431 209.955\n",
      "22 209.955 208.367\n",
      "23 208.367 206.7789\n",
      "24 206.7789 205.1909\n",
      "25 205.1909 203.6028\n",
      "26 203.6028 202.0148\n",
      "27 202.0148 200.4267\n",
      "28 200.4267 198.8387\n",
      "29 198.8387 197.2507\n",
      "30 197.2507 195.6411\n",
      "31 195.6411 194.0314\n",
      "32 194.0314 192.4218\n",
      "33 192.4218 190.8122\n",
      "34 190.8122 189.2026\n",
      "35 189.2026 187.593\n",
      "36 187.593 185.9834\n",
      "37 185.9834 184.3738\n",
      "38 184.3738 182.7642\n",
      "39 182.7642 181.1546\n",
      "40 181.1546 178.0653\n",
      "41 178.0653 174.976\n",
      "42 174.976 171.8866\n",
      "43 171.8866 168.7973\n",
      "44 168.7973 165.708\n",
      "45 165.708 162.6186\n",
      "46 162.6186 159.5293\n",
      "47 159.5293 156.44\n",
      "48 156.44 153.3506\n",
      "49 153.3506 150.2613\n",
      "50 150.2613 147.0014\n",
      "51 147.0014 143.7414\n",
      "52 143.7414 140.4815\n",
      "53 140.4815 137.2216\n",
      "54 137.2216 133.9617\n",
      "55 133.9617 130.7017\n",
      "56 130.7017 127.4418\n",
      "57 127.4418 124.1819\n",
      "58 124.1819 120.922\n",
      "59 120.922 117.662\n",
      "60 117.662 116.1006\n",
      "61 116.1006 114.5392\n",
      "62 114.5392 112.9778\n",
      "63 112.9778 111.4163\n",
      "64 111.4163 109.8549\n",
      "65 109.8549 108.2935\n",
      "66 108.2935 106.7321\n",
      "67 106.7321 105.1706\n",
      "68 105.1706 103.6092\n",
      "69 103.6092 102.0478\n",
      "70 102.0478 100.6667\n",
      "71 100.6667 99.2856\n",
      "72 99.2856 97.9045\n",
      "73 97.9045 96.5235\n",
      "74 96.5235 95.1424\n",
      "75 95.1424 93.7613\n",
      "76 93.7613 92.3802\n",
      "77 92.3802 90.9992\n",
      "78 90.9992 89.6181\n",
      "79 89.6181 88.237\n",
      "80 88.237 87.2661\n",
      "81 87.2661 86.2951\n",
      "82 86.2951 85.3242\n",
      "83 85.3242 84.3533\n",
      "84 84.3533 83.3824\n",
      "85 83.3824 82.4114\n",
      "86 82.4114 81.4405\n",
      "87 81.4405 80.4696\n",
      "88 80.4696 79.4987\n",
      "89 79.4987 78.5277\n",
      "90 78.5277 77.7457\n",
      "91 77.7457 76.9636\n",
      "92 76.9636 76.1815\n",
      "93 76.1815 75.3994\n",
      "94 75.3994 74.6174\n",
      "95 74.6174 73.8353\n",
      "96 73.8353 73.0532\n",
      "97 73.0532 72.2711\n",
      "98 72.2711 71.4891\n",
      "99 71.4891 70.707\n",
      "100 70.707 70.4855\n",
      "101 70.4855 70.264\n",
      "102 70.264 70.0425\n",
      "103 70.0425 69.821\n",
      "104 69.821 69.5996\n",
      "105 69.5996 69.3781\n",
      "106 69.3781 69.1566\n",
      "107 69.1566 68.9351\n",
      "108 68.9351 68.7136\n",
      "109 68.7136 68.4921\n",
      "110 68.4921 68.3788\n",
      "111 68.3788 68.2655\n",
      "112 68.2655 68.1523\n",
      "113 68.1523 68.039\n",
      "114 68.039 67.9257\n",
      "115 67.9257 67.8124\n",
      "116 67.8124 67.6991\n",
      "117 67.6991 67.5858\n",
      "118 67.5858 67.4725\n",
      "119 67.4725 67.3593\n",
      "120 67.3593 67.083\n",
      "121 67.083 66.8066\n",
      "122 66.8066 66.5303\n",
      "123 66.5303 66.254\n",
      "124 66.254 65.9777\n",
      "125 65.9777 65.7014\n",
      "126 65.7014 65.4251\n",
      "127 65.4251 65.1488\n",
      "128 65.1488 64.8725\n",
      "129 64.8725 64.5962\n",
      "130 64.5962 64.3479\n",
      "131 64.3479 64.0997\n",
      "132 64.0997 63.8514\n",
      "133 63.8514 63.6031\n",
      "134 63.6031 63.3548\n",
      "135 63.3548 63.1065\n",
      "136 63.1065 62.8582\n",
      "137 62.8582 62.61\n",
      "138 62.61 62.3617\n",
      "139 62.3617 62.1134\n",
      "140 62.1134 61.7643\n",
      "141 61.7643 61.4153\n",
      "142 61.4153 61.0662\n",
      "143 61.0662 60.7171\n",
      "144 60.7171 60.368\n",
      "145 60.368 60.019\n",
      "146 60.019 59.6699\n",
      "147 59.6699 59.3208\n",
      "148 59.3208 58.9718\n",
      "149 58.9718 58.6227\n",
      "150 58.6227 58.2253\n",
      "151 58.2253 57.828\n",
      "152 57.828 57.4306\n",
      "153 57.4306 57.0333\n",
      "154 57.0333 56.6359\n",
      "155 56.6359 56.2386\n",
      "156 56.2386 55.8412\n",
      "157 55.8412 55.4439\n",
      "158 55.4439 55.0465\n",
      "159 55.0465 54.6492\n",
      "160 54.6492 54.137\n",
      "161 54.137 53.6247\n",
      "162 53.6247 53.1125\n",
      "163 53.1125 52.6003\n",
      "164 52.6003 52.0881\n",
      "165 52.0881 51.5759\n",
      "166 51.5759 51.0637\n",
      "167 51.0637 50.5515\n",
      "168 50.5515 50.0392\n",
      "169 50.0392 49.527\n",
      "170 49.527 48.9706\n",
      "171 48.9706 48.4142\n",
      "172 48.4142 47.8578\n",
      "173 47.8578 47.3014\n",
      "174 47.3014 46.7451\n",
      "175 46.7451 46.1887\n",
      "176 46.1887 45.6323\n",
      "177 45.6323 45.0759\n",
      "178 45.0759 44.5195\n",
      "179 44.5195 43.9631\n",
      "180 43.9631 43.5341\n",
      "181 43.5341 43.1052\n",
      "182 43.1052 42.6762\n",
      "183 42.6762 42.2473\n",
      "184 42.2473 41.8183\n",
      "185 41.8183 41.3894\n",
      "186 41.3894 40.9604\n",
      "187 40.9604 40.5315\n",
      "188 40.5315 40.1025\n",
      "189 40.1025 39.6736\n",
      "190 39.6736 39.1345\n",
      "191 39.1345 38.5955\n",
      "192 38.5955 38.0564\n",
      "193 38.0564 37.5174\n",
      "194 37.5174 36.9783\n",
      "195 36.9783 36.4393\n",
      "196 36.4393 35.9003\n",
      "197 35.9003 35.3612\n",
      "198 35.3612 34.8222\n",
      "199 34.8222 34.2831\n"
     ]
    },
    {
     "data": {
      "text/plain": [
       "<matplotlib.colorbar.Colorbar at 0x19d04c37448>"
      ]
     },
     "execution_count": 254,
     "metadata": {},
     "output_type": "execute_result"
    },
    {
     "data": {
      "image/png": "[encoded data removed]",
      "text/plain": [
       "<Figure size 432x288 with 2 Axes>"
      ]
     },
     "metadata": {
      "needs_background": "light"
     },
     "output_type": "display_data"
    }
   ],
   "source": [
    "Delta = 5\n",
    "\n",
    "\n",
    "def calc_ForelUle(wavelength, reflectance, cmf):\n",
    "    \n",
    "    Delta = cmf['wavelength'][1] - cmf['wavelength'][0]\n",
    "    #Debug\n",
    "    print('cmf',cmf['wavelength'].iloc[0],':', cmf['wavelength'].iloc[-1],':',Delta)\n",
    "    print('input', wavelength.min(),':',wavelength.max() )\n",
    "    \n",
    "    start = max([cmf['wavelength'].iloc[0], wavelength.min()])\n",
    "    end = min([cmf['wavelength'].iloc[-1], wavelength.max()])\n",
    "    print('intersection', start,end)\n",
    "    cmfi = cmf[ (cmf['wavelength'] >= start) & (cmf['wavelength'] <= end) ]\n",
    "    \n",
    "    print(cmfi['x'].values.shape)\n",
    "    print(len(cmfi['x']))\n",
    "    print(type(cmfi['x'].values))\n",
    "    np.reshape( cmfi['x'].values, [86,1,1] )\n",
    "    \n",
    "    cmfi = {\"x\": np.reshape( cmfi['x'].values, [len(cmfi['x']),1,1] ),\n",
    "            \"y\": np.reshape( cmfi['y'].values, [len(cmfi['y']),1,1] ),\n",
    "            \"z\": np.reshape( cmfi['z'].values, [len(cmfi['z']),1,1] )}\n",
    "    \n",
    "    xi1 = range( start, end+Delta, Delta)\n",
    "    int_r1 = interp1d( wavelength, reflectance, axis = 0, kind = 'linear')(xi1)\n",
    "\n",
    "    print(len(wavelength))\n",
    "    print(len(xi1),xi1)\n",
    "    print(len(int_r1))\n",
    "    \n",
    "    # Creating a dictionary to hold the reflectance values aas tristimulus\n",
    "    r = {\"x\": [], \"y\": [], \"z\": []}\n",
    "    \n",
    "    r[\"x\"] = int_r1 * cmfi[\"x\"]\n",
    "    r[\"y\"] = int_r1 * cmfi[\"y\"]\n",
    "    r[\"z\"] = int_r1 * cmfi[\"z\"]\n",
    "    \n",
    "\n",
    "    # ------ Sum\n",
    "    s = {\"x\": [], \"y\": [], \"z\": []}\n",
    "\n",
    "    s[\"x\"] = sum(r[\"x\"] * Delta)\n",
    "    s[\"y\"] = sum(r[\"y\"] * Delta)\n",
    "    s[\"z\"] = sum(r[\"z\"] * Delta)\n",
    "        \n",
    "    sum_xyz = s[\"x\"] + s[\"y\"] + s[\"z\"]\n",
    "    \n",
    "    # ------ chromaticity\n",
    "    chrom = {\"x\": [], \"y\": [], \"z\": []}\n",
    "    chrom[\"x\"] = s[\"x\"] / sum_xyz\n",
    "    chrom[\"y\"] = s[\"y\"] / sum_xyz\n",
    "    chrom[\"z\"] = s[\"z\"] / sum_xyz\n",
    "\n",
    "    sum_chrom_y = chrom[\"x\"] + chrom[\"y\"] + chrom[\"z\"]\n",
    "\n",
    "    # ______ chromaticity - whiteness\n",
    "    chrom_w = {\"x\": [], \"y\": []}\n",
    "    chrom_w[\"x\"] = chrom[\"x\"] - (1 / 3)\n",
    "    chrom_w[\"y\"] = chrom[\"y\"] - (1 / 3)\n",
    "\n",
    "    # ______ calculate atan2\n",
    "    # we use the average atan per scale\n",
    "    a_i = np.arctan2( chrom_w[\"y\"], chrom_w[\"x\"]) * 180 / math.pi\n",
    "\n",
    "    a_i[a_i < 0] =  a_i[a_i < 0] + 360\n",
    "        \n",
    "    # ----- fui approximation\n",
    "    fu_i = np.zeros(a_i.shape)\n",
    "    fu_i[ a_i >= fui[\"atan\"][0]] = 1   #FUI = 1 its > Average\n",
    "    fu_i[ np.isnan(a_i) ] = 0           # FUI = NAN = 0\n",
    "    fu_i[ a_i <= fui[\"atan\"].iloc[-1]] = 21  #FUI = 1 its > Average\n",
    "    \n",
    "    for c in range(0, len(fui)-1):\n",
    "        print(c, fui[\"atan\"].iloc[c],fui[\"atan\"].iloc[c+1])\n",
    "        #fu_i[ (a_i > fui[ind]) & (a_i <= fui[ind + 1]) ] = ind\n",
    "        fu_i[ (a_i > fui[\"atan\"].iloc[c]) & (a_i <= fui[\"atan\"].iloc[c+1]) ] = fui['value'].iloc[c]\n",
    "            \n",
    "    return fu_i\n",
    "\n",
    "\n",
    "fu_i = calc_ForelUle(Rw.coords['wavelength'].values, Rw, cmf)\n",
    "plt.imshow(fu_i)\n",
    "plt.colorbar()"
   ]
  },
  {
   "cell_type": "code",
   "execution_count": 212,
   "metadata": {},
   "outputs": [
    {
     "name": "stdout",
     "output_type": "stream",
     "text": [
      "(14,)\n"
     ]
    },
    {
     "data": {
      "text/plain": [
       "(14, 1, 1)"
      ]
     },
     "execution_count": 212,
     "metadata": {},
     "output_type": "execute_result"
    }
   ],
   "source": [
    "print(Rw.coords['wavelength'].values.shape) \n",
    "np.reshape( Rw.coords['wavelength'].values, [14,1,1]).shape"
   ]
  },
  {
   "cell_type": "code",
   "execution_count": 244,
   "metadata": {},
   "outputs": [
    {
     "data": {
      "text/html": [
       "<div>\n",
       "<style scoped>\n",
       "    .dataframe tbody tr th:only-of-type {\n",
       "        vertical-align: middle;\n",
       "    }\n",
       "\n",
       "    .dataframe tbody tr th {\n",
       "        vertical-align: top;\n",
       "    }\n",
       "\n",
       "    .dataframe thead th {\n",
       "        text-align: right;\n",
       "    }\n",
       "</style>\n",
       "<table border=\"1\" class=\"dataframe\">\n",
       "  <thead>\n",
       "    <tr style=\"text-align: right;\">\n",
       "      <th></th>\n",
       "      <th>value</th>\n",
       "      <th>atan</th>\n",
       "    </tr>\n",
       "  </thead>\n",
       "  <tbody>\n",
       "    <tr>\n",
       "      <th>0</th>\n",
       "      <td>1.0</td>\n",
       "      <td>229.9439</td>\n",
       "    </tr>\n",
       "    <tr>\n",
       "      <th>1</th>\n",
       "      <td>1.1</td>\n",
       "      <td>229.4906</td>\n",
       "    </tr>\n",
       "    <tr>\n",
       "      <th>2</th>\n",
       "      <td>1.2</td>\n",
       "      <td>229.0373</td>\n",
       "    </tr>\n",
       "    <tr>\n",
       "      <th>3</th>\n",
       "      <td>1.3</td>\n",
       "      <td>228.5840</td>\n",
       "    </tr>\n",
       "    <tr>\n",
       "      <th>4</th>\n",
       "      <td>1.4</td>\n",
       "      <td>228.1307</td>\n",
       "    </tr>\n",
       "    <tr>\n",
       "      <th>...</th>\n",
       "      <td>...</td>\n",
       "      <td>...</td>\n",
       "    </tr>\n",
       "    <tr>\n",
       "      <th>196</th>\n",
       "      <td>20.6</td>\n",
       "      <td>36.4393</td>\n",
       "    </tr>\n",
       "    <tr>\n",
       "      <th>197</th>\n",
       "      <td>20.7</td>\n",
       "      <td>35.9003</td>\n",
       "    </tr>\n",
       "    <tr>\n",
       "      <th>198</th>\n",
       "      <td>20.8</td>\n",
       "      <td>35.3612</td>\n",
       "    </tr>\n",
       "    <tr>\n",
       "      <th>199</th>\n",
       "      <td>20.9</td>\n",
       "      <td>34.8222</td>\n",
       "    </tr>\n",
       "    <tr>\n",
       "      <th>200</th>\n",
       "      <td>21.0</td>\n",
       "      <td>34.2831</td>\n",
       "    </tr>\n",
       "  </tbody>\n",
       "</table>\n",
       "<p>201 rows × 2 columns</p>\n",
       "</div>"
      ],
      "text/plain": [
       "     value      atan\n",
       "0      1.0  229.9439\n",
       "1      1.1  229.4906\n",
       "2      1.2  229.0373\n",
       "3      1.3  228.5840\n",
       "4      1.4  228.1307\n",
       "..     ...       ...\n",
       "196   20.6   36.4393\n",
       "197   20.7   35.9003\n",
       "198   20.8   35.3612\n",
       "199   20.9   34.8222\n",
       "200   21.0   34.2831\n",
       "\n",
       "[201 rows x 2 columns]"
      ]
     },
     "execution_count": 244,
     "metadata": {},
     "output_type": "execute_result"
    }
   ],
   "source": [
    "fui.iloc[]"
   ]
  },
  {
   "cell_type": "code",
   "execution_count": null,
   "metadata": {},
   "outputs": [],
   "source": []
  }
 ],
 "metadata": {
  "kernelspec": {
   "display_name": "Python 3 (ipykernel)",
   "language": "python",
   "name": "python3"
  },
  "language_info": {
   "codemirror_mode": {
    "name": "ipython",
    "version": 3
   },
   "file_extension": ".py",
   "mimetype": "text/x-python",
   "name": "python",
   "nbconvert_exporter": "python",
   "pygments_lexer": "ipython3",
   "version": "3.7.10"
  }
 },
 "nbformat": 4,
 "nbformat_minor": 4
}
