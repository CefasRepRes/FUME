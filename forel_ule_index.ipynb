{
 "cells": [
  {
   "cell_type": "code",
   "execution_count": 3,
   "metadata": {
    "tags": []
   },
   "outputs": [],
   "source": [
    "__maintainer__ = \"[José M. Beltrán](<jobel.open.science@gmail.com>)\"\n",
    "__modified_from = {\"code\":\"matlab\",\"credits\":\"Shungudzemwoyo Garaba\",\"email\":\"<shungu.garaba@uni-oldenburg.de>\", \"dates\":{\"created\":20110224, \"modified\":20140910}}\n",
    "__credits__ = [\"José M. Beltrán\"]\n",
    "__license__ = \"GPL-3.0\"\n",
    "__status__ = []"
   ]
  },
  {
   "cell_type": "markdown",
   "metadata": {},
   "source": [
    "# Notebook to calculate the Forel-Ule Index"
   ]
  },
  {
   "cell_type": "markdown",
   "metadata": {},
   "source": [
    "**Reference** :\n",
    "Wernand, M. R., Hommersom, a., & Van Der Woerd, H. J. (2013). MERIS-based ocean colour classification with the discrete Forel-Ule scale. Ocean Science, 9, 477–487. doi:10.5194/os-9-477-2013"
   ]
  },
  {
   "cell_type": "markdown",
   "metadata": {},
   "source": [
    "**Bibtex** : \n",
    "@article{Wernand2013, \n",
    "author = {Wernand, M. R. and Hommersom, a. and {Van Der Woerd}, H. J.}, \n",
    "title = {{MERIS-based ocean colour classification with the discrete Forel-Ule scale}},\n",
    "doi = {10.5194/os-9-477-2013},\n",
    "issn = {18120784},\n",
    "journal = {Ocean Science},\n",
    "pages = {477--487},\n",
    "volume = {9},\n",
    "year = {2013}\n",
    "}"
   ]
  },
  {
   "cell_type": "code",
   "execution_count": 4,
   "metadata": {
    "tags": []
   },
   "outputs": [],
   "source": [
    "# Keeping a local mathjax for Latex rendering\n",
    "from IPython.external import mathjax  #mathjax.install_mathjax()"
   ]
  },
  {
   "cell_type": "code",
   "execution_count": 5,
   "metadata": {
    "tags": []
   },
   "outputs": [],
   "source": [
    "import os\n",
    "import pandas as pd\n",
    "from scipy.interpolate import interp1d\n",
    "import math"
   ]
  },
  {
   "cell_type": "code",
   "execution_count": 10,
   "metadata": {
    "tags": []
   },
   "outputs": [
    {
     "name": "stdout",
     "output_type": "stream",
     "text": [
      "C:\\Users\\tams00\\OneDrive - CEFAS\\git\\FUME\n"
     ]
    }
   ],
   "source": [
    "# Set the current working directory\n",
    "#os.chdir('/home/jobel/gits/jobel/FUME')\n",
    "!cd"
   ]
  },
  {
   "cell_type": "markdown",
   "metadata": {},
   "source": [
    "[**Notes from the colour and vision research laboratory**](http://www.cvrl.org/)\n",
    "\n",
    "The CIE 1931 2-deg CMFs (CIE, 1932), which form the basis for most practical colorimetry, are based on the chromaticity coordinates obtained by Guild (1931) and by Wright (1928). Chromaticity coordinates, however, provide only a relative measure of the ratios of the three primaries needed to match each spectrum color, whereas CMFs specify absolute energy values. In order to reconstruct the CMFs from the Wright and Guild data, it was assumed that the CIE1924 V(l) photopic luminosity function (CIE, 1926) is a linear combination of the three CMFs (see Wyszecki & Stiles, 1982), for a description of the reconstruction and for the tabulated values. \n",
    "\n",
    "It has long been clear that the CIE1924 V(λ) that was used to construct the CIE 1931 2-deg CMFs **seriously underestimates sensitivity at wavelengths below 460 nm**, so that these CMFs are seriously in error at short wavelengths. The Judd and Judd-Vos modifications are attempts to overcome this problem.\n"
   ]
  },
  {
   "cell_type": "code",
   "execution_count": 35,
   "metadata": {
    "tags": []
   },
   "outputs": [],
   "source": [
    "cmf = pd.read_csv(sep = \"\\t\", filepath_or_buffer = \"data/FUI_CIE1931_JV.tsv\")\n",
    "fui = pd.read_csv(sep = \"\\t\", filepath_or_buffer = \"data/FUI_ATAN210.tsv\", names = [\"value\", \"atan\"])\n",
    "test = pd.read_csv(sep = \"\\t\", filepath_or_buffer = \"data/test.csv\", header = None)\n",
    "# Renaming the columns of the test dataframe\n",
    "test.columns = [\"wavelength\", \"y1\", \"y2\", \"y3\", \"y4\"]"
   ]
  },
  {
   "cell_type": "code",
   "execution_count": 36,
   "metadata": {
    "collapsed": false,
    "jupyter": {
     "outputs_hidden": false
    }
   },
   "outputs": [],
   "source": [
    "#the interpolating part \n",
    "Delta = 5 # 5nm bins\n",
    "# adds +5 as it should include 825 resulting in 90 values, i.e. matching the len(cmf).\n",
    "xi1 = range(380, 825 + Delta, Delta)  \n"
   ]
  },
  {
   "cell_type": "code",
   "execution_count": 37,
   "metadata": {
    "tags": []
   },
   "outputs": [],
   "source": [
    "# For linear interpolation you can use:\n",
    "# interp1d(x,y)(new_x) # 'linear' it's the default\n",
    "# or to be more explicit\n",
    "# set_interp = interp1d(x,y, kind='linear')\n",
    "#new_y = set_interp(new_x)"
   ]
  },
  {
   "cell_type": "code",
   "execution_count": 38,
   "metadata": {
    "tags": []
   },
   "outputs": [],
   "source": [
    "# retrieving the reflectance values for lambda 380-720nm\n",
    "int_r1 = interp1d(test[\"wavelength\"], test[\"y1\"], kind = 'linear')(xi1)"
   ]
  },
  {
   "cell_type": "code",
   "execution_count": 39,
   "metadata": {},
   "outputs": [
    {
     "data": {
      "text/html": [
       "<div>\n",
       "<style scoped>\n",
       "    .dataframe tbody tr th:only-of-type {\n",
       "        vertical-align: middle;\n",
       "    }\n",
       "\n",
       "    .dataframe tbody tr th {\n",
       "        vertical-align: top;\n",
       "    }\n",
       "\n",
       "    .dataframe thead th {\n",
       "        text-align: right;\n",
       "    }\n",
       "</style>\n",
       "<table border=\"1\" class=\"dataframe\">\n",
       "  <thead>\n",
       "    <tr style=\"text-align: right;\">\n",
       "      <th></th>\n",
       "      <th>wavelength</th>\n",
       "      <th>x</th>\n",
       "      <th>y</th>\n",
       "      <th>z</th>\n",
       "    </tr>\n",
       "  </thead>\n",
       "  <tbody>\n",
       "    <tr>\n",
       "      <th>0</th>\n",
       "      <td>380</td>\n",
       "      <td>0.002690</td>\n",
       "      <td>2.000000e-04</td>\n",
       "      <td>1.226000e-02</td>\n",
       "    </tr>\n",
       "    <tr>\n",
       "      <th>1</th>\n",
       "      <td>385</td>\n",
       "      <td>0.005311</td>\n",
       "      <td>3.955600e-04</td>\n",
       "      <td>2.422200e-02</td>\n",
       "    </tr>\n",
       "    <tr>\n",
       "      <th>2</th>\n",
       "      <td>390</td>\n",
       "      <td>0.010781</td>\n",
       "      <td>8.000000e-04</td>\n",
       "      <td>4.925000e-02</td>\n",
       "    </tr>\n",
       "    <tr>\n",
       "      <th>3</th>\n",
       "      <td>395</td>\n",
       "      <td>0.020792</td>\n",
       "      <td>1.545700e-03</td>\n",
       "      <td>9.513500e-02</td>\n",
       "    </tr>\n",
       "    <tr>\n",
       "      <th>4</th>\n",
       "      <td>400</td>\n",
       "      <td>0.037981</td>\n",
       "      <td>2.800000e-03</td>\n",
       "      <td>1.740900e-01</td>\n",
       "    </tr>\n",
       "    <tr>\n",
       "      <th>...</th>\n",
       "      <td>...</td>\n",
       "      <td>...</td>\n",
       "      <td>...</td>\n",
       "      <td>...</td>\n",
       "    </tr>\n",
       "    <tr>\n",
       "      <th>85</th>\n",
       "      <td>805</td>\n",
       "      <td>0.000007</td>\n",
       "      <td>2.607600e-06</td>\n",
       "      <td>5.862600e-10</td>\n",
       "    </tr>\n",
       "    <tr>\n",
       "      <th>86</th>\n",
       "      <td>810</td>\n",
       "      <td>0.000005</td>\n",
       "      <td>1.836500e-06</td>\n",
       "      <td>4.213800e-10</td>\n",
       "    </tr>\n",
       "    <tr>\n",
       "      <th>87</th>\n",
       "      <td>815</td>\n",
       "      <td>0.000003</td>\n",
       "      <td>1.295000e-06</td>\n",
       "      <td>3.031900e-10</td>\n",
       "    </tr>\n",
       "    <tr>\n",
       "      <th>88</th>\n",
       "      <td>820</td>\n",
       "      <td>0.000002</td>\n",
       "      <td>9.109200e-07</td>\n",
       "      <td>2.175300e-10</td>\n",
       "    </tr>\n",
       "    <tr>\n",
       "      <th>89</th>\n",
       "      <td>825</td>\n",
       "      <td>0.000002</td>\n",
       "      <td>6.356400e-07</td>\n",
       "      <td>1.547600e-10</td>\n",
       "    </tr>\n",
       "  </tbody>\n",
       "</table>\n",
       "<p>90 rows × 4 columns</p>\n",
       "</div>"
      ],
      "text/plain": [
       "    wavelength         x             y             z\n",
       "0          380  0.002690  2.000000e-04  1.226000e-02\n",
       "1          385  0.005311  3.955600e-04  2.422200e-02\n",
       "2          390  0.010781  8.000000e-04  4.925000e-02\n",
       "3          395  0.020792  1.545700e-03  9.513500e-02\n",
       "4          400  0.037981  2.800000e-03  1.740900e-01\n",
       "..         ...       ...           ...           ...\n",
       "85         805  0.000007  2.607600e-06  5.862600e-10\n",
       "86         810  0.000005  1.836500e-06  4.213800e-10\n",
       "87         815  0.000003  1.295000e-06  3.031900e-10\n",
       "88         820  0.000002  9.109200e-07  2.175300e-10\n",
       "89         825  0.000002  6.356400e-07  1.547600e-10\n",
       "\n",
       "[90 rows x 4 columns]"
      ]
     },
     "execution_count": 39,
     "metadata": {},
     "output_type": "execute_result"
    }
   ],
   "source": [
    "cmf"
   ]
  },
  {
   "cell_type": "code",
   "execution_count": 40,
   "metadata": {
    "tags": []
   },
   "outputs": [],
   "source": [
    "# Creating a dictionary to hold the reflectance values aas tristimulus\n",
    "r = {\"x\": [], \"y\": [], \"z\": []}\n",
    "# ------- R_RS * cmf\n",
    "for i in range(0, len(cmf)):\n",
    "    r[\"x\"] = int_r1[i] * cmf[\"x\"]\n",
    "    r[\"y\"] = int_r1[i] * cmf[\"y\"]\n",
    "    r[\"z\"] = int_r1[i] * cmf[\"z\"]"
   ]
  },
  {
   "cell_type": "code",
   "execution_count": 41,
   "metadata": {
    "tags": []
   },
   "outputs": [],
   "source": [
    "# ------ Sum\n",
    "s = {\"x\": [], \"y\": [], \"z\": []}\n",
    "\n",
    "s[\"x\"] = sum(r[\"x\"] * Delta)\n",
    "s[\"y\"] = sum(r[\"y\"] * Delta)\n",
    "s[\"z\"] = sum(r[\"z\"] * Delta)\n",
    "\n",
    "sum_xyz = s[\"x\"] + s[\"y\"] + s[\"z\"]"
   ]
  },
  {
   "cell_type": "code",
   "execution_count": 42,
   "metadata": {
    "tags": []
   },
   "outputs": [],
   "source": [
    "# ------ chromaticity\n",
    "chrom = {\"x\": [], \"y\": [], \"z\": []}\n",
    "chrom[\"x\"] = s[\"x\"] / sum_xyz\n",
    "chrom[\"y\"] = s[\"y\"] / sum_xyz\n",
    "chrom[\"z\"] = s[\"z\"] / sum_xyz\n",
    "\n",
    "sum_chrom_y = chrom[\"x\"] + chrom[\"y\"] + chrom[\"z\"]"
   ]
  },
  {
   "cell_type": "code",
   "execution_count": 43,
   "metadata": {
    "tags": []
   },
   "outputs": [],
   "source": [
    "# ______ chromaticity - whiteness\n",
    "chrom_w = {\"x\": [], \"y\": []}\n",
    "chrom_w[\"x\"] = chrom[\"x\"] - (1 / 3)\n",
    "chrom_w[\"y\"] = chrom[\"y\"] - (1 / 3)"
   ]
  },
  {
   "cell_type": "code",
   "execution_count": 44,
   "metadata": {
    "tags": []
   },
   "outputs": [],
   "source": [
    "# ______ calculate atan2\n",
    "# we use the average atan per scale\n",
    "a_i = math.atan2(chrom_w[\"y\"], chrom_w[\"x\"]) * 180 / math.pi\n",
    "\n",
    "if a_i < 0:\n",
    "    a_i = a_i + 360\n",
    "else:\n",
    "    a_i = a_i"
   ]
  },
  {
   "cell_type": "code",
   "execution_count": 46,
   "metadata": {
    "tags": []
   },
   "outputs": [],
   "source": [
    "# ----- fui approximation\n",
    "\n",
    "if a_i >= fui[\"atan\"][0]:  # FUI = 1 its > Average\n",
    "    fu_i = 1.0\n",
    "elif math.isnan(a_i):  # FUI = NAN = 0\n",
    "    fu_i = 0\n",
    "elif a_i <= fui[\"atan\"][200]:  # FUI = 21\n",
    "    fu_i = 21.0\n",
    "else:\n",
    "    for c in range(0, 200):\n",
    "        if (fui[\"atan\"][c] > a_i) and (a_i >= fui[\"atan\"][c + 1]):\n",
    "            fu_i = fui[\"value\"][c + 1]"
   ]
  },
  {
   "cell_type": "code",
   "execution_count": 47,
   "metadata": {
    "collapsed": false,
    "jupyter": {
     "outputs_hidden": false
    }
   },
   "outputs": [
    {
     "data": {
      "text/plain": [
       "14.9"
      ]
     },
     "execution_count": 47,
     "metadata": {},
     "output_type": "execute_result"
    }
   ],
   "source": [
    "# The calculated FUI is\n",
    "fu_i"
   ]
  },
  {
   "cell_type": "code",
   "execution_count": null,
   "metadata": {
    "collapsed": true,
    "jupyter": {
     "outputs_hidden": true
    }
   },
   "outputs": [],
   "source": []
  }
 ],
 "metadata": {
  "kernelspec": {
   "display_name": "Python 3 (ipykernel)",
   "language": "python",
   "name": "python3"
  },
  "language_info": {
   "codemirror_mode": {
    "name": "ipython",
    "version": 3
   },
   "file_extension": ".py",
   "mimetype": "text/x-python",
   "name": "python",
   "nbconvert_exporter": "python",
   "pygments_lexer": "ipython3",
   "version": "3.7.10"
  }
 },
 "nbformat": 4,
 "nbformat_minor": 4
}
