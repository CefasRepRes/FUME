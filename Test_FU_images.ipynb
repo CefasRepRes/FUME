{
 "cells": [
  {
   "cell_type": "markdown",
   "metadata": {
    "tags": []
   },
   "source": [
    "# Test of Forel Ule on satellite images"
   ]
  },
  {
   "cell_type": "markdown",
   "metadata": {},
   "source": [
    "Test images used in WW2015 and W2016:\n",
    "* ENVISAT_MERIS_RR.20060504T100254.L2.OC.nc\n",
    "* AQUA_MODIS.20060504T115501\n",
    "\n",
    "S3 image of LiverpoolBay\n",
    "* S3A_OL_20200506T104005_20200506T104305_20200507T143731_0179_058_051_1980_LN1_O_NT_002' (processed with Polymer)\n",
    "* S3A_OL_2_WFR____20200506T104005_20200506T104305_20200507T211159_0179_058_051_1980_MAR_O_NT_002 (L2 from EUMETSAT)\n",
    "\n",
    "Other S3 images\n",
    "* S3B_OL_1_EFR____20200112T045045_20200112T045345_20200113T085230_0179_034_190_2700_LN1_O_NT_002'\n",
    "* S3B_OL_1_EFR____20200109T042519_20200109T042819_20200114T040052_0179_034_147_2520_MAR_O_NT_002'\n",
    "\n",
    "**References**\n",
    "\n",
    "*Wernand, M. R., Hommersom, a., & Van Der Woerd, H. J. (2013). MERIS-based ocean colour classification with the discrete Forel-Ule scale. Ocean Science, 9, 477–487.* doi:10.5194/os-9-477-2013\n",
    "\n",
    "*Van der Woerd, H. J., Wernand, M., Peters, M., Bala, M., and Brockmann, C. 2016. True color analysis of natural waters with SeaWiFS, MODIS, MERIS and OLCI by SNAP. In Proceedings of the Ocean Optics XXIII, Victoria, BC, Canada, pp. 23–28.*"
   ]
  },
  {
   "cell_type": "code",
   "execution_count": 1,
   "metadata": {
    "tags": []
   },
   "outputs": [],
   "source": [
    "import matplotlib.pyplot as plt\n",
    "from matplotlib import cm\n",
    "import xarray as xr\n",
    "import fume"
   ]
  },
  {
   "cell_type": "code",
   "execution_count": 2,
   "metadata": {},
   "outputs": [],
   "source": [
    "bands_meris={'red':'Rrs_665','green':'Rrs_560','blue':'Rrs_443'}\n",
    "bands_modis={'red':'Rrs_667','green':'Rrs_555','blue':'Rrs_443'}\n",
    "bands_olci={'red':'Rw665','green':'Rw560','blue':'Rw443'}\n",
    "bands_olci_eumetsat={'red':'Oa03_reflectance','green':'Oa06_reflectance','blue':'Oa08_reflectance'}\n"
   ]
  },
  {
   "cell_type": "markdown",
   "metadata": {
    "tags": []
   },
   "source": [
    "## Auxiliary plotting functions "
   ]
  },
  {
   "cell_type": "code",
   "execution_count": 3,
   "metadata": {
    "tags": []
   },
   "outputs": [],
   "source": [
    "def _extent(rcextent):\n",
    "    \n",
    "    rstep,cstep=(1,1)\n",
    "    if rcextent:\n",
    "        ri,rf,ci,cf = rcextent\n",
    "        if ri>rf:\n",
    "            rstep=-1\n",
    "        if ci>cf:\n",
    "            cstep=-1\n",
    "    else:\n",
    "        ri,rf,ci,cf = 0,-1,0,-1\n",
    "        \n",
    "    return ri,rf,rstep,ci,cf,cstep\n",
    "\n",
    "\n",
    "def plot_rgb_image(ax, imgfile,bands,rcextent=None):\n",
    "    \n",
    "    ri,rf,rstep,ci,cf,cstep = _extent(rcextent)\n",
    "    \n",
    "    try:\n",
    "        img = xr.open_dataset(imgfile,group='geophysical_data')\n",
    "    except OSError:\n",
    "        img = xr.open_dataset(imgfile)\n",
    "        \n",
    "    redb=bands['red']\n",
    "    greenb=bands['green']\n",
    "    blueb=bands['blue']\n",
    "\n",
    "    #fig, axs = plt.subplots(nrows=1,ncols=1,figsize=(10,8))\n",
    "    #ax=axs\n",
    "    print(img[redb].shape)\n",
    "    try:\n",
    "        # for meris images\n",
    "        rgb = xr.concat([img[redb][ri:rf:rstep,ci:cf:cstep], \n",
    "                         img[greenb][ri:rf:rstep,ci:cf:cstep],\n",
    "                         img[blueb][ri:rf:rstep,ci:cf:cstep]\n",
    "                        ],\n",
    "                         dim='rgb').transpose('number_of_lines', 'pixels_per_line','rgb')\n",
    "    except ValueError:\n",
    "        try:\n",
    "            # for olci images\n",
    "            rgb = xr.concat([img[redb][ri:rf:rstep,ci:cf:cstep], \n",
    "                             img[greenb][ri:rf:rstep,ci:cf:cstep],\n",
    "                             img[blueb][ri:rf:rstep,ci:cf:cstep]\n",
    "                            ],\n",
    "                             dim='rgb').transpose('height', 'width','rgb')\n",
    "        except ValueError:\n",
    "            # for olci EUMETSAT images\n",
    "            rgb = xr.concat([img[redb][ri:rf:rstep,ci:cf:cstep], \n",
    "                             img[greenb][ri:rf:rstep,ci:cf:cstep],\n",
    "                             img[blueb][ri:rf:rstep,ci:cf:cstep]\n",
    "                            ],\n",
    "                             dim='rgb').transpose('y', 'x','rgb')\n",
    "    \n",
    "    ax.imshow(rgb/rgb.quantile(0.95),interpolation='none')\n",
    "        \n",
    "    return ax\n",
    "\n",
    "\n",
    "def plot_fu_image(ax, imgfile,reflectance_prefix,sensorcorr,rcextent=None):\n",
    "\n",
    "    ri,rf,rstep,ci,cf,cstep = _extent(rcextent)\n",
    "\n",
    "    try:\n",
    "        img = xr.open_dataset(imgfile,group='geophysical_data')\n",
    "    except OSError:\n",
    "        img = xr.open_dataset(imgfile)\n",
    "\n",
    "    # Extract wavelengths from band names\n",
    "    wavelength = []\n",
    "    bandid = []\n",
    "    for var in img.data_vars:\n",
    "        if reflectance_prefix in var:\n",
    "            bandid.append(var)\n",
    "            try:\n",
    "                wavelength.append( int ( var.replace(reflectance_prefix,'') ) )\n",
    "            except ValueError: \n",
    "                wavelength.append( float(img[var].attrs['radiation_wavelength']) )\n",
    "\n",
    "    # Create a 3-D array along wavelength dimension\n",
    "    Rw = xr.concat( [img[id][ri:rf:rstep,ci:cf:cstep] for id in bandid] ,dim='wavelength')\n",
    "\n",
    "    #Rw.name = 'Rw'\n",
    "    Rw = Rw.assign_coords(wavelength=wavelength)\n",
    "\n",
    "\n",
    "    # Calculate Forel-Ule classes\n",
    "    fu,_ = fume.calc_ForelUle_image(Rw.coords['wavelength'].values, \n",
    "                                    Rw,\n",
    "                                    sensorcorr=sensorcorr,\n",
    "                                    fucalibration='data/hue_angle_limits_NWW2013.csv')\n",
    "        \n",
    "    # Plot image and return axis \n",
    "    mapp = ax.imshow(fu, cmap=fume.forelulecmap(),vmin=0.5,vmax=21.5,interpolation='none')\n",
    "    cbar = plt.colorbar(mapp, ax=ax)\n",
    "    cbar.set_ticks(range(1,21+1))\n",
    "    cbar.set_ticklabels(range(1,21+1))\n",
    "    cbar.set_label('Forel Ule classes')\n",
    "\n",
    "    return ax\n",
    "\n",
    "\n",
    "def plot_ha_image(ax,imgfile,reflectance_prefix,sensorcorr,rcextent=None):\n",
    "\n",
    "    ri,rf,rstep,ci,cf,cstep = _extent(rcextent)\n",
    "    \n",
    "    try:\n",
    "        img = xr.open_dataset(imgfile,group='geophysical_data')\n",
    "    except OSError:\n",
    "        img = xr.open_dataset(imgfile)\n",
    "\n",
    "    # Extract wavelengths from band names\n",
    "    wavelength = []\n",
    "    bandid = []\n",
    "    #print(img.data_vars)\n",
    "    for var in img.data_vars:\n",
    "        if reflectance_prefix in var:\n",
    "            bandid.append(var)\n",
    "            try:\n",
    "                wavelength.append( int ( var.replace(reflectance_prefix,'') ) )\n",
    "            except ValueError: \n",
    "                wavelength.append( float(img[var].attrs['radiation_wavelength']) )\n",
    "\n",
    "    # Create a 3-D array along wavelength dimension\n",
    "    Rw = xr.concat( [img[id][ri:rf:rstep,ci:cf:cstep] for id in bandid] ,dim='wavelength')\n",
    "    \n",
    "    #Rw.name = 'Rw'\n",
    "    Rw = Rw.assign_coords(wavelength=wavelength)\n",
    "\n",
    "\n",
    "    # Calculate and plot Forel-Ule classes\n",
    "    _,ha = fume.calc_ForelUle_image(Rw.coords['wavelength'].values, \n",
    "                                    Rw,\n",
    "                                    sensorcorr=sensorcorr,\n",
    "                                    fucalibration='data/hue_angle_limits_NWW2013.csv')\n",
    "    \n",
    "    #fig,ax = plt.subplots(nrows=1,ncols=1,figsize=(10,8))\n",
    "    mapp = ax.imshow(ha, cmap=cm.jet_r,vmin=0,vmax=270,interpolation='none')\n",
    "    cbar = plt.colorbar(mapp, ax=ax)\n",
    "    cbar.set_label('Hue angle (deg.)')\n",
    "\n",
    "    return ax"
   ]
  },
  {
   "cell_type": "markdown",
   "metadata": {
    "tags": []
   },
   "source": [
    "# North Sea: : Polymer vs. Baseline AC\n",
    "### Images from WW2015 and WWPB2016 papers "
   ]
  },
  {
   "cell_type": "markdown",
   "metadata": {
    "tags": []
   },
   "source": [
    "### ENVISAT_MERIS_RR.20060504T100254.L2.OC.nc"
   ]
  },
  {
   "cell_type": "code",
   "execution_count": null,
   "metadata": {},
   "outputs": [],
   "source": [
    "fig,axs = plt.subplots(nrows=2,ncols=2,figsize=(20,15))\n",
    "axs=axs.flatten()\n",
    "\n",
    "ax1 = plot_fu_image(axs[0],'data/ENVISAT_MERIS_RR.20060504T100254.L2.OC.nc',\n",
    "                    reflectance_prefix='Rrs_',\n",
    "                    sensorcorr='meris',\n",
    "                    rcextent=[4150,4800,0,620])\n",
    "ax1.set_title('FU classes')\n",
    "\n",
    "ax2 = plot_ha_image(axs[1],'data/ENVISAT_MERIS_RR.20060504T100254.L2.OC.nc',\n",
    "                    reflectance_prefix='Rrs_',\n",
    "                    sensorcorr='meris',\n",
    "                    rcextent=[4150,4800,0,620])\n",
    "ax2.set_title('Hue angle')\n",
    "\n",
    "ax3 = plot_rgb_image(axs[2],'data/ENVISAT_MERIS_RR.20060504T100254.L2.OC.nc',\n",
    "                    bands=bands_meris,\n",
    "                    rcextent=[4150,4800,0,620])\n",
    "ax3.set_title('RGB')\n",
    "\n",
    "plt.delaxes(axs[3])\n"
   ]
  },
  {
   "cell_type": "markdown",
   "metadata": {
    "tags": []
   },
   "source": [
    "### AQUA_MODIS.20060504T115501"
   ]
  },
  {
   "cell_type": "code",
   "execution_count": null,
   "metadata": {},
   "outputs": [],
   "source": [
    "fig,axs = plt.subplots(nrows=2,ncols=2,figsize=(20,15))\n",
    "axs=axs.flatten()\n",
    "\n",
    "ax1 = plot_fu_image(axs[0],'data/AQUA_MODIS.20060504T115501.L2.OC.nc',\n",
    "                    reflectance_prefix='Rrs_',\n",
    "                    sensorcorr='modisa',\n",
    "                    rcextent=[2030,1500,1354,800])\n",
    "ax1.set_title('FU classes')\n",
    "\n",
    "ax2 = plot_ha_image(axs[1],'data/AQUA_MODIS.20060504T115501.L2.OC.nc',\n",
    "                    reflectance_prefix='Rrs_',\n",
    "                    sensorcorr='modisa',\n",
    "                    rcextent=[2030,1500,1354,800])\n",
    "ax2.set_title('Hue angle')\n",
    "\n",
    "ax3 = plot_rgb_image(axs[2],'data/AQUA_MODIS.20060504T115501.L2.OC.nc',\n",
    "               bands=bands_modis,\n",
    "               rcextent=[2030,1500,1354,800])\n",
    "ax3.set_title('RGB')\n",
    "\n",
    "plt.delaxes(axs[3])"
   ]
  },
  {
   "cell_type": "markdown",
   "metadata": {},
   "source": [
    "# Liverpool Bay test: Polymer vs. Baseline AC"
   ]
  },
  {
   "cell_type": "code",
   "execution_count": null,
   "metadata": {},
   "outputs": [],
   "source": [
    "fig,axs = plt.subplots(nrows=3,ncols=2,figsize=(20,20))\n",
    "\n",
    "ax1 = plot_fu_image(axs[0,0],'data/S3A_OL_20200506T104005_20200506T104305_20200507T143731_0179_058_051_1980_LN1_O_NT_002.polymer.LivBay.nc',\n",
    "             reflectance_prefix='Rw',\n",
    "             sensorcorr='olci')\n",
    "ax1.set_title('Polymer AC')\n",
    "\n",
    "ax2 = plot_fu_image(axs[0,1],'data/S3A_OL_2_WFR____20200506T104005_20200506T104305_20200507T211159_0179_058_051_1980_MAR_O_NT_002.LivBay.nc',\n",
    "             reflectance_prefix='_reflectance',\n",
    "             sensorcorr='olci')\n",
    "ax2.set_title('Baseline AC')\n",
    "\n",
    "ax3 = plot_ha_image(axs[1,0],'data/S3A_OL_20200506T104005_20200506T104305_20200507T143731_0179_058_051_1980_LN1_O_NT_002.polymer.LivBay.nc',\n",
    "             reflectance_prefix='Rw',\n",
    "             sensorcorr='olci')\n",
    "ax3.set_title('Polymer AC')\n",
    "\n",
    "ax4 = plot_ha_image(axs[1,1],'data/S3A_OL_2_WFR____20200506T104005_20200506T104305_20200507T211159_0179_058_051_1980_MAR_O_NT_002.LivBay.nc',\n",
    "             reflectance_prefix='_reflectance',\n",
    "             sensorcorr='olci')\n",
    "ax4.set_title('Baseline AC')\n",
    "\n",
    "ax5 = plot_rgb_image(axs[2,0],'data/S3A_OL_20200506T104005_20200506T104305_20200507T143731_0179_058_051_1980_LN1_O_NT_002.polymer.LivBay.nc',\n",
    "             bands=bands_olci)\n",
    "ax5.set_title('RGB Polymer AC')\n",
    "\n",
    "ax6 = plot_rgb_image(axs[2,1],'data/S3A_OL_2_WFR____20200506T104005_20200506T104305_20200507T211159_0179_058_051_1980_MAR_O_NT_002.LivBay.nc',\n",
    "             bands=bands_olci_eumetsat)\n",
    "ax6.set_title('RGB Baseline AC')"
   ]
  },
  {
   "cell_type": "markdown",
   "metadata": {},
   "source": [
    "# Other test images"
   ]
  },
  {
   "cell_type": "code",
   "execution_count": null,
   "metadata": {},
   "outputs": [],
   "source": [
    "\n",
    "polymersmallfile=r'C:\\Users\\tams00\\OneDrive - CEFAS\\git\\FUME\\data\\S3B_OL_1_EFR____20200112T045045_20200112T045345_20200113T085230_0179_034_190_2700_LN1_O_NT_002.polymer.venbanad_lake.nc'\n",
    "#polymersmallfile=r'C:\\Users\\tams00\\OneDrive - CEFAS\\git\\FUME\\data\\S3B_OL_1_EFR____20200109T042519_20200109T042819_20200114T040052_0179_034_147_2520_MAR_O_NT_002.polymer.chilika_lake.nc'\n",
    "\n",
    "fig,axs = plt.subplots(nrows=3,ncols=1,figsize=(15,30))\n",
    "axs=axs.flatten()\n",
    "\n",
    "ax1 = plot_fu_image(axs[0],polymersmallfile,\n",
    "                    reflectance_prefix='Rw',\n",
    "                    sensorcorr='olci')\n",
    "\n",
    "ax2 = plot_ha_image(axs[1],polymersmallfile,\n",
    "                    reflectance_prefix='Rw',\n",
    "                    sensorcorr='olci')\n",
    "\n",
    "ax3 = plot_rgb_image(axs[2],polymersmallfile,\n",
    "                    bands=bands_olci)"
   ]
  },
  {
   "cell_type": "code",
   "execution_count": null,
   "metadata": {},
   "outputs": [],
   "source": []
  }
 ],
 "metadata": {
  "kernelspec": {
   "display_name": "Python 3 (ipykernel)",
   "language": "python",
   "name": "python3"
  },
  "language_info": {
   "codemirror_mode": {
    "name": "ipython",
    "version": 3
   },
   "file_extension": ".py",
   "mimetype": "text/x-python",
   "name": "python",
   "nbconvert_exporter": "python",
   "pygments_lexer": "ipython3",
   "version": "3.11.0"
  }
 },
 "nbformat": 4,
 "nbformat_minor": 4
}
